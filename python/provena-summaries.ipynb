{
 "cells": [
  {
   "attachments": {},
   "cell_type": "markdown",
   "metadata": {},
   "source": [
    "## Provena Summaries\n",
    "\n",
    "Query Provena APIs for summary information."
   ]
  },
  {
   "attachments": {},
   "cell_type": "markdown",
   "metadata": {},
   "source": [
    "### Provena workflow configuration setup"
   ]
  },
  {
   "cell_type": "code",
   "execution_count": null,
   "metadata": {},
   "outputs": [],
   "source": [
    "from provenaclient import ProvenaClient, Config\n",
    "from provenaclient.auth import DeviceFlow\n",
    "from provenaclient.auth.implementations import OfflineFlow\n",
    "\n",
    "from pprint import pprint"
   ]
  },
  {
   "cell_type": "code",
   "execution_count": null,
   "metadata": {},
   "outputs": [],
   "source": [
    "import os\n",
    "from dotenv import load_dotenv\n",
    "\n",
    "# Provena config - replace with your Provena instance endpoints\n",
    "client_config = Config(\n",
    "    domain=\"dev.rrap-is.com\",\n",
    "    realm_name=\"rrap\"\n",
    ")\n",
    "\n",
    "offline_mode = False\n",
    "\n",
    "if offline_mode:\n",
    "    load_dotenv()\n",
    "    offline_token=os.getenv('PROVENA_API_TOKEN')\n",
    "    assert offline_token, \"Offline token must be present in .env file e.g. PROVENA_API_TOKEN=1234.\"\n",
    "    print(f\"Offline mode activated and token found in .env file.\")\n",
    "\n",
    "if not offline_mode:\n",
    "    auth = DeviceFlow(config=client_config,\n",
    "                    client_id=\"client-tools\")\n",
    "else:\n",
    "    auth = OfflineFlow(config=client_config, client_id = 'automated-access', offline_token=offline_token)\n",
    "\n",
    "\n",
    "# Instantiate the client.\n",
    "client = ProvenaClient(config=client_config, auth=auth)"
   ]
  },
  {
   "cell_type": "markdown",
   "metadata": {},
   "source": [
    "### Fetching Dataset Summary Information"
   ]
  },
  {
   "cell_type": "markdown",
   "metadata": {},
   "source": [
    "Print a list of all datasets"
   ]
  },
  {
   "cell_type": "code",
   "execution_count": null,
   "metadata": {},
   "outputs": [],
   "source": [
    "datasets_count = await client.datastore.list_all_datasets()\n",
    "pprint(datasets_count)"
   ]
  },
  {
   "cell_type": "markdown",
   "metadata": {},
   "source": [
    "Get count of datasets in datastore."
   ]
  },
  {
   "cell_type": "code",
   "execution_count": null,
   "metadata": {},
   "outputs": [],
   "source": [
    "print(\"The number of datasets in the datastore are:\", len(datasets_count))"
   ]
  },
  {
   "cell_type": "markdown",
   "metadata": {},
   "source": [
    "### Count of Each Entity (Subtype) within Your Provena Instance"
   ]
  },
  {
   "cell_type": "code",
   "execution_count": null,
   "metadata": {},
   "outputs": [],
   "source": [
    "item_counts = await client.registry.list_registry_items_with_count()\n",
    "item_counts"
   ]
  },
  {
   "cell_type": "code",
   "execution_count": null,
   "metadata": {},
   "outputs": [],
   "source": [
    "import pandas as pd\n",
    "\n",
    "df = pd.DataFrame({\"count\" : pd.Series(item_counts)})\n",
    "print(df)"
   ]
  },
  {
   "cell_type": "code",
   "execution_count": null,
   "metadata": {},
   "outputs": [],
   "source": [
    "import seaborn as sns\n",
    "import matplotlib.pyplot as plt\n",
    "\n",
    "ax = sns.barplot(x=df.index, y=df[\"count\"], hue = df.index)\n",
    "\n",
    "ax.set_title(\"Count of All Entities (By Subtype) in Your Provena Instance\")\n",
    "ax.set_xlabel(\"Subtype\")\n",
    "ax.set_ylabel(\"Count\")\n",
    "\n",
    "plt.xticks(rotation=45, ha='right')\n",
    "plt.tight_layout()\n",
    "plt.show()"
   ]
  }
 ],
 "metadata": {
  "kernelspec": {
   "display_name": ".venv",
   "language": "python",
   "name": "python3"
  },
  "language_info": {
   "codemirror_mode": {
    "name": "ipython",
    "version": 3
   },
   "file_extension": ".py",
   "mimetype": "text/x-python",
   "name": "python",
   "nbconvert_exporter": "python",
   "pygments_lexer": "ipython3",
   "version": "3.10.13"
  },
  "orig_nbformat": 4
 },
 "nbformat": 4,
 "nbformat_minor": 2
}
