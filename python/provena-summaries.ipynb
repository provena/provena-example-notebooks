{
 "cells": [
  {
   "attachments": {},
   "cell_type": "markdown",
   "metadata": {},
   "source": [
    "## Provena Summaries\n",
    "\n",
    "Query Provena APIs for summary information."
   ]
  },
  {
   "attachments": {},
   "cell_type": "markdown",
   "metadata": {},
   "source": [
    "### Provena workflow configuration setup"
   ]
  },
  {
   "cell_type": "code",
   "execution_count": 10,
   "metadata": {},
   "outputs": [],
   "source": [
    "# This is a small helper class which provides a config object for validation and\n",
    "# a loader function\n",
    "import example_workflow_config\n",
    "\n",
    "# this contains helpers for interacting with the registry\n",
    "import registry\n",
    "\n",
    "# This is a helper function for managing authentication with Provena\n",
    "import mdsisclienttools.auth.TokenManager as ProvenaAuth\n",
    "import mdsisclienttools.datastore.ReadWriteHelper as ProvenaRW\n",
    "from typing import Dict, Any, Callable\n",
    "\n",
    "\n",
    "import json\n",
    "import time\n",
    "import requests"
   ]
  },
  {
   "cell_type": "code",
   "execution_count": 2,
   "metadata": {},
   "outputs": [],
   "source": [
    "# Provena config - replace with your Provena instance endpoints\n",
    "\n",
    "# Replace the domain with the domain of your Provena instance\n",
    "PROVENA_DOMAIN = \"dev.rrap-is.com\"\n",
    "\n",
    "# Edit this to point to the Keycloak instance for your Provena instance\n",
    "kc_endpoint = \"https://auth.dev.rrap-is.com/auth/realms/rrap\"\n",
    "\n",
    "stage = \"DEV\"\n",
    "registry_endpoint = \"https://registry-api.{}\".format(PROVENA_DOMAIN)\n",
    "provenance_endpoint = \"https://prov-api.{}\".format(PROVENA_DOMAIN)\n",
    "data_store_endpoint = \"https://data-api.{}\".format(PROVENA_DOMAIN)\n",
    "job_endpoint =  \"https://job-api.{}\".format(PROVENA_DOMAIN)"
   ]
  },
  {
   "cell_type": "code",
   "execution_count": 3,
   "metadata": {},
   "outputs": [],
   "source": [
    "# If you would like to try using an offline token (API Key) you can do so by\n",
    "# switching this to true AND ensuring the token is available in a file '.env'\n",
    "# with format PROVENA_API_TOKEN=\"yourtokenhere\"\n",
    "import os\n",
    "from dotenv import load_dotenv\n",
    "\n",
    "offline_mode = False\n",
    "\n",
    "if offline_mode:\n",
    "    load_dotenv('.env')\n",
    "    offline_token=os.getenv('PROVENA_API_TOKEN')\n",
    "    assert offline_token, \"Offline token must be present in .env file e.g. PROVENA_API_TOKEN=1234.\"\n",
    "    print(f\"Offline mode activated and token found in .env file.\")"
   ]
  },
  {
   "cell_type": "code",
   "execution_count": 4,
   "metadata": {},
   "outputs": [
    {
     "name": "stdout",
     "output_type": "stream",
     "text": [
      "No storage or object provided, using default location: .tokens.json.\n",
      "Using storage type: FILE.\n",
      "Using DEVICE auth flow.\n",
      "Attempting to generate authorisation tokens.\n",
      "\n",
      "Looking for existing tokens in local storage.\n",
      "\n",
      "Validating found tokens\n",
      "\n",
      "Trying to use found tokens to refresh the access token.\n",
      "\n",
      "Token refresh successful.\n",
      "\n"
     ]
    }
   ],
   "source": [
    "# sets up auth connections - could potentially open browser window if not signed\n",
    "# in recently - caches in .tokens.json - ensure this is included in gitignore\n",
    "\n",
    "if not offline_mode:\n",
    "    provena_auth = ProvenaAuth.DeviceFlowManager(\n",
    "        stage=stage,\n",
    "        keycloak_endpoint=kc_endpoint,\n",
    "        auth_flow=ProvenaAuth.AuthFlow.DEVICE,\n",
    "    )\n",
    "else:\n",
    "    provena_auth = ProvenaAuth.DeviceFlowManager(\n",
    "        stage=stage,\n",
    "        keycloak_endpoint=kc_endpoint,\n",
    "        # these setups allow for offline access\n",
    "        \n",
    "        # use the offline auth flow\n",
    "        auth_flow=ProvenaAuth.AuthFlow.OFFLINE,\n",
    "        \n",
    "        # specify existing offline token\n",
    "        offline_token=offline_token,\n",
    "        \n",
    "        # use the automated access client which accepts offline token workflows\n",
    "        client_id='automated-access'\n",
    "    )\n",
    "\n",
    "# expose the get auth function which is used for provena methods \n",
    "get_auth = provena_auth.get_auth"
   ]
  },
  {
   "cell_type": "code",
   "execution_count": 5,
   "metadata": {},
   "outputs": [
    {
     "name": "stdout",
     "output_type": "stream",
     "text": [
      "Fetching from registry using post\n"
     ]
    }
   ],
   "source": [
    "def pprint_json(content) -> None:\n",
    "    print(json.dumps(content,indent=2))\n",
    "  \n",
    "counts = {\n",
    "    \"datasets\" : 0,\n",
    "    \"model_runs\" : 0,\n",
    "    \"persons\": 0,\n",
    "}\n",
    "\n",
    "# list  datasets \n",
    "payload={\n",
    "  \"filter_by\": {\n",
    "    \"record_type\": \"COMPLETE_ONLY\"\n",
    "  },\n",
    "  \"sort_by\": {\n",
    "    \"ascending\": False\n",
    "  },\n",
    "  \"page_size\": 1000\n",
    "}\n",
    "list_datasets = registry.list_datasets(registry_endpoint=registry_endpoint, data=payload, auth=get_auth())\n",
    "#pprint_json(list_datasets)\n",
    "counts[\"datasets\"] = list_datasets['total_item_count']\n"
   ]
  },
  {
   "cell_type": "code",
   "execution_count": 6,
   "metadata": {},
   "outputs": [
    {
     "name": "stdout",
     "output_type": "stream",
     "text": [
      "Fetching from registry using post\n"
     ]
    }
   ],
   "source": [
    "# list model_runs\n",
    "payload={\n",
    "  \"filter_by\": {\n",
    "    \"record_type\": \"COMPLETE_ONLY\"\n",
    "  },\n",
    "  \"sort_by\": {\n",
    "    \"ascending\": False\n",
    "  },\n",
    "  \"page_size\": 1000\n",
    "}\n",
    "list_model_runs = registry.list_model_runs(registry_endpoint=registry_endpoint, data=payload, auth=get_auth())\n",
    "#pprint_json(list_model_runs)\n",
    "counts[\"model_runs\"] = list_model_runs['total_item_count']\n"
   ]
  },
  {
   "cell_type": "code",
   "execution_count": 19,
   "metadata": {},
   "outputs": [
    {
     "name": "stdout",
     "output_type": "stream",
     "text": [
      "Fetching from registry using post\n",
      "{'datasets': 72, 'model_runs': 38, 'persons': 14, 'organisations': 7}\n",
      "Fetching from registry using post\n",
      "{'datasets': 72, 'model_runs': 38, 'persons': 14, 'organisations': 7}\n",
      "Fetching from registry using post\n",
      "{'datasets': 72, 'model_runs': 38, 'persons': 14, 'organisations': 7, 'model_run_workflow_templates': 11}\n",
      "Fetching from registry using post\n",
      "{'datasets': 72, 'model_runs': 38, 'persons': 14, 'organisations': 7, 'model_run_workflow_templates': 11, 'dataset_templates': 18}\n"
     ]
    }
   ],
   "source": [
    "def do_listing(key: str,  func: Callable, count_arr: Dict[str,int]) -> Dict[str, int]:\n",
    "    res = func(registry_endpoint=registry_endpoint, data=payload, auth=get_auth())\n",
    "    counts[key] = res['total_item_count']\n",
    "    print(counts)\n",
    "    return counts\n",
    "\n",
    "counts = do_listing(\"persons\", registry.list_persons, count_arr=counts)\n",
    "counts = do_listing(\"organisations\", registry.list_organisations, count_arr=counts)\n",
    "counts = do_listing(\"model_run_workflow_templates\", registry.list_model_run_workflow_templates, count_arr=counts)\n",
    "counts = do_listing(\"dataset_templates\", registry.list_dataset_templates, count_arr=counts)"
   ]
  },
  {
   "cell_type": "code",
   "execution_count": 20,
   "metadata": {},
   "outputs": [
    {
     "data": {
      "text/plain": [
       "{'datasets': 72,\n",
       " 'model_runs': 38,\n",
       " 'persons': 14,\n",
       " 'organisations': 7,\n",
       " 'model_run_workflow_templates': 11,\n",
       " 'dataset_templates': 18}"
      ]
     },
     "execution_count": 20,
     "metadata": {},
     "output_type": "execute_result"
    }
   ],
   "source": [
    "counts"
   ]
  },
  {
   "cell_type": "code",
   "execution_count": 21,
   "metadata": {},
   "outputs": [
    {
     "name": "stdout",
     "output_type": "stream",
     "text": [
      "                              count\n",
      "datasets                         72\n",
      "model_runs                       38\n",
      "persons                          14\n",
      "organisations                     7\n",
      "model_run_workflow_templates     11\n",
      "dataset_templates                18\n"
     ]
    }
   ],
   "source": [
    "import pandas as pd\n",
    "\n",
    "df = pd.DataFrame({\"count\" : pd.Series(counts)})\n",
    "print(df)"
   ]
  }
 ],
 "metadata": {
  "kernelspec": {
   "display_name": ".venv",
   "language": "python",
   "name": "python3"
  },
  "language_info": {
   "codemirror_mode": {
    "name": "ipython",
    "version": 3
   },
   "file_extension": ".py",
   "mimetype": "text/x-python",
   "name": "python",
   "nbconvert_exporter": "python",
   "pygments_lexer": "ipython3",
   "version": "3.10.13"
  },
  "orig_nbformat": 4
 },
 "nbformat": 4,
 "nbformat_minor": 2
}
