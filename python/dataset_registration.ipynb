{
 "cells": [
  {
   "cell_type": "markdown",
   "metadata": {},
   "source": [
    "# Provena Dataset Registration with Metadata\n",
    "This notebook will demonstrate how a Provena user can register a new dataset in the Provena Data Store.\n",
    "The demonstration will include the prerequisites to register a dataset, the registration process it self, and post-registration activities such as updating metadata with new/missed or updated fields, releasing the dataset, creating new versions, changing access permissions, and more."
   ]
  },
  {
   "cell_type": "markdown",
   "metadata": {},
   "source": [
    "## Configuration Set up"
   ]
  },
  {
   "cell_type": "code",
   "execution_count": 1,
   "metadata": {},
   "outputs": [
    {
     "name": "stdout",
     "output_type": "stream",
     "text": [
      "No storage or object provided, using default location: .tokens.json.\n",
      "Using storage type: FILE.\n",
      "Using DEVICE auth flow.\n",
      "Attempting to generate authorisation tokens.\n",
      "\n",
      "Looking for existing tokens in local storage.\n",
      "\n",
      "Validating found tokens\n",
      "\n",
      "Trying to use found tokens to refresh the access token.\n",
      "\n",
      "Token refresh successful.\n",
      "\n"
     ]
    }
   ],
   "source": [
    "# helpers for interacting with the datastore\n",
    "from helpers import datastore\n",
    "# This is a helper function for managing authentication with Provena\n",
    "# Others\n",
    "import json\n",
    "from utils import pprint_json\n",
    "from env_setup import get_auth, data_store_endpoint"
   ]
  },
  {
   "cell_type": "markdown",
   "metadata": {},
   "source": [
    "## Prerequisites to Dataset registration\n",
    "Dataset metadata makes references to organisations, owners, and optionally more users (e.g. Data Custodian). These entities must be registered in the Provena Data Store before they can be referenced in a dataset registration. This is generally a one off activity and therefore is best performed using the the friendly web user interfaces. [A guide for registering entities is available](http://docs.provena.io/registry/registering_and_updating.html). Further more, you must also ensure you are registered as a Person Entity and your user account is linked to this enitity. More info below.\n",
    "\n",
    "You are minimally required to register the following entities prior to dataset registration:\n",
    "* **Person Entity** of yourself (for Provena to automatically assign your person entity as the dataset entity owner)\n",
    "* (Optional) **Person Entity** of the Dataset's Data Custodian\n",
    "* **Organisation Entity** of the Dataset's Record Creator Organisation\n",
    "* **Organisation Entity** of the Dataset's Publisher\n",
    "\n",
    "\n",
    "In addition to registering a Person Entity of yourself, you must also then [link your account to this Person Entity](http://docs.provena.io/getting-started-is/linking-identity.html).\n"
   ]
  },
  {
   "cell_type": "markdown",
   "metadata": {},
   "source": [
    "### Pre-requisit entities\n",
    "\n",
    "I have pre-registered the following entities in the web user-interface which generated the following references to be used in the dataset metadata fields later:  \n",
    "\n",
    "| Entity Type and Purpose                       | Entity Handle + Link                                      |\n",
    "|-----------------------------------|-------------------------------------------------|\n",
    "| Person Entity of myself           | [10378.1/1764273](https://hdl.handle.net/10378.1/1764273)   |\n",
    "| Person Entity of the Dataset's Data Custodian (Peter Baker)  | [10378.1/1758949](https://hdl.handle.net/10378.1/1758949)   |\n",
    "| Organisation Entity of the Dataset's Record Creator Organisation (CSIRO)  | [10378.1/1764284](https://hdl.handle.net/10378.1/1764284)   |\n",
    "| Organisation Entity of the Dataset's Publisher (CSIRO)  | [10378.1/1764284](https://hdl.handle.net/10378.1/1764284)   |\n",
    "\n"
   ]
  },
  {
   "cell_type": "code",
   "execution_count": 4,
   "metadata": {},
   "outputs": [],
   "source": [
    "# TODO during demonstration.\n",
    "record_creator = \"10378.1/1764284\" \n",
    "publisher = \"10378.1/1764284\"\n",
    "data_custodian = \"10378.1/1758949\""
   ]
  },
  {
   "cell_type": "markdown",
   "metadata": {},
   "source": [
    "## Dataset Registration\n",
    "Now the prerequisites are done. The following sections will demonstrate how to register a dataset in the Provena Data Store. You can check the expected json payload for the endpoints using https://data-api.dev.rrap-is.com/redoc. For registering a new dataset, see https://data-api.dev.rrap-is.com/redoc#tag/Register-dataset."
   ]
  },
  {
   "cell_type": "markdown",
   "metadata": {},
   "source": [
    "#### Load in Dataset Metadata"
   ]
  },
  {
   "cell_type": "code",
   "execution_count": 5,
   "metadata": {},
   "outputs": [],
   "source": [
    "# Get path to file containing the dataset metadata\n",
    "\n",
    "dataset_metadata_path = \"configs/example_dataset_registration.json\"\n",
    "\n",
    "# load into dict\n",
    "with open(dataset_metadata_path) as f:\n",
    "    dataset_metadata = json.load(f)\n",
    "\n",
    "# Inject references\n",
    "dataset_metadata = datastore.inject_references(dataset_metadata, record_creator, publisher, data_custodian)\n",
    "\n",
    "# Pretty Display\n",
    "#pprint_json(dataset_metadata)"
   ]
  },
  {
   "cell_type": "markdown",
   "metadata": {},
   "source": [
    "#### Post Dataset Metadata to Provena for Creation of Dataset Entity"
   ]
  },
  {
   "cell_type": "code",
   "execution_count": 6,
   "metadata": {},
   "outputs": [
    {
     "name": "stdout",
     "output_type": "stream",
     "text": [
      "Registering dataset with metadata: {'associations': {'organisation_id': '10378.1/1764284', 'data_custodian_id': '10378.1/1758949', 'point_of_contact': 'Lazaros'}, 'approvals': {'ethics_registration': {'relevant': False, 'obtained': False}, 'ethics_access': {'relevant': False, 'obtained': False}, 'indigenous_knowledge': {'relevant': False, 'obtained': False}, 'export_controls': {'relevant': False, 'obtained': False}}, 'dataset_info': {'name': 'The Test Dataset: A Mirror to the Soul of the Software', 'description': 'This is a test dataset purposed for demonstrating registration via API endpoint.', 'access_info': {'reposited': True}, 'publisher_id': '10378.1/1764284', 'created_date': '2022-10-02', 'published_date': '2023-10-03', 'license': 'https://creativecommons.org/licenses/by/4.0/', 'purpose': \"But why, you might ask, was the Test Dataset so important? Well, dear reader, it served as a mirror reflecting the very essence of the software, exposing its vulnerabilities and frailties. It was Testy's trustworthy sidekick, always ready to point out flaws, inconsistencies, and missteps in the code. It was the guardian of reliability, ensuring that the software would perform its duties diligently without crashing or misbehaving. And it was the staunch defender of predictability, making sure that the software would respond consistently to various inputs and scenarios.\", 'rights_holder': 'Donkey from Shrek', 'usage_limitations': 'You may not use this dataset while wearing an eyepatch, unless you are an actual pirate sailing the high seas. In that case, a parrot on your shoulder is also required for compliance.', 'preferred_citation': 'Testy McTestface, \"The Test Dataset: A Mirror to the Soul of the Software\", Journal of Testy Software, 2021', 'spatial_info': {'coverage': 'SRID=4326;MULTIPOLYGON (((-75.0 40.0, -75.0 45.0, -70.0 45.0, -70.0 40.0, -75.0 40.0)), ((-73.0 42.0, -72.0 42.0, -72.0 43.0, -73.0 43.0, -73.0 42.0), (-72.5 42.5, -72.5 42.8, -72.8 42.8, -72.8 42.5, -72.5 42.5)))', 'resolution': '0.00125', 'extent': 'SRID=4326;POLYGON ((30 10, 40 40, 20 40, 10 20, 30 10))'}, 'temporal_info': {'duration': {'begin_date': '2019-08-24', 'end_date': '2019-08-25'}, 'resolution': 'P1Y2M10DT2H30M'}, 'formats': ['pdf', 'geojson'], 'keywords': ['Cool', 'Dataset']}}...\n"
     ]
    },
    {
     "name": "stdout",
     "output_type": "stream",
     "text": [
      "Registered dataset with id 10378.1/1764777\n",
      "{\n",
      "  \"status\": {\n",
      "    \"success\": true,\n",
      "    \"details\": \"Successfully seeded location - see location details.\"\n",
      "  },\n",
      "  \"handle\": \"10378.1/1764777\",\n",
      "  \"s3_location\": {\n",
      "    \"bucket_name\": \"restored-dev-dev-rrap-storage-bucket-11102022-11102022\",\n",
      "    \"path\": \"datasets/10378-1-1764777/\",\n",
      "    \"s3_uri\": \"s3://restored-dev-dev-rrap-storage-bucket-11102022-11102022/datasets/10378-1-1764777/\"\n",
      "  },\n",
      "  \"register_create_activity_session_id\": \"6928323c-7087-4c4c-9b88-a1664a3a4448\"\n",
      "}\n"
     ]
    }
   ],
   "source": [
    "register_response = datastore.register_dataset(datastore_endpoint=data_store_endpoint, dataset_metadata=dataset_metadata, auth=get_auth())\n",
    "print(f\"Registered dataset with id {register_response['handle']}\")\n",
    "pprint_json(register_response)"
   ]
  },
  {
   "cell_type": "markdown",
   "metadata": {},
   "source": []
  },
  {
   "cell_type": "code",
   "execution_count": 7,
   "metadata": {},
   "outputs": [
    {
     "name": "stdout",
     "output_type": "stream",
     "text": [
      "10378.1/1764777\n"
     ]
    }
   ],
   "source": [
    "print(register_response['handle'])"
   ]
  }
 ],
 "metadata": {
  "kernelspec": {
   "display_name": ".venv",
   "language": "python",
   "name": "python3"
  },
  "language_info": {
   "codemirror_mode": {
    "name": "ipython",
    "version": 3
   },
   "file_extension": ".py",
   "mimetype": "text/x-python",
   "name": "python",
   "nbconvert_exporter": "python",
   "pygments_lexer": "ipython3",
   "version": "3.10.12"
  },
  "orig_nbformat": 4
 },
 "nbformat": 4,
 "nbformat_minor": 2
}
