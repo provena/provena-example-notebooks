{
 "cells": [
  {
   "cell_type": "markdown",
   "metadata": {},
   "source": [
    "# Provena Dataset Registration with Metadata\n",
    "This notebook will demonstrate how a Provena user can register a new dataset in the Provena Data Store.\n",
    "The demonstration will include the prerequisites to register a dataset, the registration process it self, and post-registration activities such as updating metadata with new/missed or updated fields, releasing the dataset, creating new versions, changing access permissions, and more."
   ]
  },
  {
   "cell_type": "markdown",
   "metadata": {},
   "source": [
    "## Configuration Set up"
   ]
  },
  {
   "cell_type": "code",
   "execution_count": null,
   "metadata": {},
   "outputs": [],
   "source": [
    "# This is a small helper class which provides a config object for validation and\n",
    "# a loader function\n",
    "import example_workflow_config\n",
    "import json\n",
    "# this contains helpers for interacting with the registry\n",
    "import registry\n",
    "import datastore\n",
    "# This is a helper function for managing authentication with Provena\n",
    "import mdsisclienttools.auth.TokenManager as ProvenaAuth\n",
    "\n",
    "import json\n",
    "import time\n",
    "import requests\n",
    "from utils import pprint_json"
   ]
  },
  {
   "cell_type": "code",
   "execution_count": null,
   "metadata": {},
   "outputs": [],
   "source": [
    "# Provena config - replace with your Provena instance endpoints\n",
    "\n",
    "# Replace the domain with the domain of your Provena instance\n",
    "PROVENA_DOMAIN = \"dev.rrap-is.com\"\n",
    "\n",
    "# Edit this to point to the Keycloak instance for your Provena instance\n",
    "kc_endpoint = \"https://auth.dev.rrap-is.com/auth/realms/rrap\"\n",
    "\n",
    "stage = \"DEV\"\n",
    "registry_endpoint = \"https://registry-api.{}\".format(PROVENA_DOMAIN)\n",
    "provenance_endpoint = \"https://prov-api.{}\".format(PROVENA_DOMAIN)\n",
    "data_store_endpoint = \"https://data-api.{}\".format(PROVENA_DOMAIN)\n",
    "job_endpoint =  \"https://job-api.{}\".format(PROVENA_DOMAIN)\n",
    "\n"
   ]
  },
  {
   "cell_type": "code",
   "execution_count": null,
   "metadata": {},
   "outputs": [],
   "source": [
    "# sets up auth connections - could potentially open browser window if not signed\n",
    "# in recently - caches in .tokens.json - ensure this is included in gitignore\n",
    "provena_auth = ProvenaAuth.DeviceFlowManager(\n",
    "    stage=stage,\n",
    "    keycloak_endpoint=kc_endpoint\n",
    ")\n",
    "\n",
    "# expose the get auth function which is used for provena methods \n",
    "get_auth = provena_auth.get_auth"
   ]
  },
  {
   "cell_type": "markdown",
   "metadata": {},
   "source": [
    "## Prerequisites to Dataset registration\n",
    "Dataset metadata makes references to organisations, owners, and optionally more users (e.g. Data Custodian). These entities must be registered in the Provena Data Store before they can be referenced in a dataset registration. This is generally a one off activity and therefore is best performed using the the friendly web user interfaces. [A guide for registering entities is available](http://docs.provena.io/registry/registering_and_updating.html). Further more, you must also ensure you are registered as a Person Entity. More info below.\n",
    "\n",
    "The following entities are required (unless specified otherwise) for registering a dataset.\n",
    "\n",
    "You are minimally required to register the following entities prior to dataset registration:\n",
    "* **Person Entity** of yourself (for Provena to automatically assign your person entity as the dataset entity owner)\n",
    "* (Optional) **Person Entity** of the Dataset's Dataa Custodian\n",
    "* **Organisation Entity** of the Dataset's Record Creator Organisation\n",
    "* **Organisation Entity** of the Dataset's Publisher\n",
    "\n",
    "\n",
    "In addition to registering a Person Entity of yourself, you must also then [link your account to this Person Entity](http://docs.provena.io/getting-started-is/linking-identity.html).\n"
   ]
  },
  {
   "cell_type": "markdown",
   "metadata": {},
   "source": [
    "### Pre-requisit entities\n",
    "\n",
    "I have pre-registered the following entities in the web user-interface which generated the following references to be used in the dataset metadata fields later:  \n",
    "\n",
    "| Entity Type and Purpose                       | Entity Handle + Link                                      |\n",
    "|-----------------------------------|-------------------------------------------------|\n",
    "| Person Entity of myself           | [10378.1/1764273](https://hdl.handle.net/10378.1/1764273)   |\n",
    "| Person Entity of the Dataset's Data Custodian (Peter Baker)  | [10378.1/1758949](https://hdl.handle.net/10378.1/1758949)   |\n",
    "| Organisation Entity of the Dataset's Record Creator Organisation (CSIRO)  | [10378.1/1764284](https://hdl.handle.net/10378.1/1764284)   |\n",
    "| Organisation Entity of the Dataset's Publisher (CSIRO)  | [10378.1/1764284](https://hdl.handle.net/10378.1/1764284)   |\n",
    "\n"
   ]
  },
  {
   "cell_type": "code",
   "execution_count": null,
   "metadata": {},
   "outputs": [],
   "source": [
    "# TODO during demonstration.\n",
    "record_creator = \"10378.1/1764284\" \n",
    "publisher = \"10378.1/1764284\"\n",
    "data_custodian = \"10378.1/1758949\""
   ]
  },
  {
   "cell_type": "markdown",
   "metadata": {},
   "source": [
    "## Dataset Registration\n",
    "Now the prerequisites are done. The following sections will demonstrate how to register a dataset in the Provena Data Store. You can check the expected json payload for the endpoints using https://data-api.dev.rrap-is.com/redoc. For registering a new dataset, see https://data-api.dev.rrap-is.com/redoc#tag/Register-dataset."
   ]
  },
  {
   "cell_type": "markdown",
   "metadata": {},
   "source": [
    "#### Load in Dataset Metadata"
   ]
  },
  {
   "cell_type": "code",
   "execution_count": null,
   "metadata": {},
   "outputs": [],
   "source": [
    "# Get path to file containing the dataset metadata\n",
    "# TODO enter handles here copied from UI. then inject into dataset metadata json.\n",
    "\n",
    "dataset_metadata_path = \"configs/example_dataset_registration.json\"\n",
    "\n",
    "# load into dict\n",
    "with open(dataset_metadata_path) as f:\n",
    "    dataset_metadata = json.load(f)\n",
    "\n",
    "# Inject references\n",
    "dataset_metadata = datastore.inject_references(dataset_metadata, record_creator, publisher, data_custodian)\n",
    "\n",
    "# Pretty Display\n",
    "#pprint_json(dataset_metadata)"
   ]
  },
  {
   "cell_type": "markdown",
   "metadata": {},
   "source": [
    "#### Post Dataset Metadata to Provena for Creation of Dataset Entity"
   ]
  },
  {
   "cell_type": "code",
   "execution_count": null,
   "metadata": {},
   "outputs": [],
   "source": [
    "register_response = datastore.register_dataset(datastore_endpoint=data_store_endpoint,dataset_metadata=dataset_metadata, auth=get_auth())\n",
    "print(f\"Registered dataset with id {register_response['handle']}\")\n",
    "pprint_json(register_response)"
   ]
  },
  {
   "cell_type": "markdown",
   "metadata": {},
   "source": []
  },
  {
   "cell_type": "code",
   "execution_count": null,
   "metadata": {},
   "outputs": [],
   "source": [
    "print(register_response['handle'])"
   ]
  }
 ],
 "metadata": {
  "kernelspec": {
   "display_name": ".venv",
   "language": "python",
   "name": "python3"
  },
  "language_info": {
   "codemirror_mode": {
    "name": "ipython",
    "version": 3
   },
   "file_extension": ".py",
   "mimetype": "text/x-python",
   "name": "python",
   "nbconvert_exporter": "python",
   "pygments_lexer": "ipython3",
   "version": "3.10.12"
  },
  "orig_nbformat": 4
 },
 "nbformat": 4,
 "nbformat_minor": 2
}
