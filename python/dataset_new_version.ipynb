{
 "cells": [
  {
   "cell_type": "code",
   "execution_count": 1,
   "metadata": {},
   "outputs": [
    {
     "name": "stdout",
     "output_type": "stream",
     "text": [
      "No storage or object provided, using default location: .tokens.json.\n",
      "Using storage type: FILE.\n",
      "Using DEVICE auth flow.\n",
      "Attempting to generate authorisation tokens.\n",
      "\n",
      "Looking for existing tokens in local storage.\n",
      "\n",
      "Validating found tokens\n",
      "\n",
      "Found tokens valid, using.\n",
      "\n"
     ]
    }
   ],
   "source": [
    "from helpers import datastore, registry\n",
    "import mdsisclienttools.auth.TokenManager as ProvenaAuth\n",
    "from utils import pprint_json\n",
    "from env_setup import get_auth, registry_endpoint, data_store_endpoint"
   ]
  },
  {
   "cell_type": "code",
   "execution_count": 2,
   "metadata": {},
   "outputs": [
    {
     "name": "stdout",
     "output_type": "stream",
     "text": [
      "Versioning dataset with id: 10378.1/1764777...\n",
      "{\n",
      "  \"new_version_id\": \"10378.1/1764778\",\n",
      "  \"version_job_session_id\": \"ea8e30b7-dd13-4c51-ab38-05b2fa18bbb5\"\n",
      "}\n"
     ]
    }
   ],
   "source": [
    "dataset_id = \"10378.1/1764777\"\n",
    "reason=\"For demonstration Purposes, creating a second version of the dataset.\"\n",
    "version_response = datastore.version_dataset(datastore_endpoint=data_store_endpoint, dataset_id=dataset_id, reason=reason, auth=get_auth())\n",
    "pprint_json(version_response)\n"
   ]
  },
  {
   "cell_type": "code",
   "execution_count": 3,
   "metadata": {},
   "outputs": [
    {
     "name": "stdout",
     "output_type": "stream",
     "text": [
      "Fetching from registry, id: 10378.1/1764778...\n",
      "Updating dataset with metadata: {'associations': {'organisation_id': '10378.1/1764284', 'data_custodian_id': '10378.1/1758949', 'point_of_contact': 'Peter Baker'}, 'approvals': {'ethics_registration': {'relevant': False, 'obtained': False}, 'ethics_access': {'relevant': False, 'obtained': False}, 'indigenous_knowledge': {'relevant': False, 'obtained': False}, 'export_controls': {'relevant': False, 'obtained': False}}, 'dataset_info': {'name': 'The Test Dataset: A Mirror to the Soul of the Software', 'description': 'This is a new version of the dataset!', 'access_info': {'reposited': True, 'uri': None, 'description': None}, 'publisher_id': '10378.1/1764284', 'created_date': '2022-10-02', 'published_date': '2023-10-03', 'license': 'https://creativecommons.org/licenses/by/4.0/', 'purpose': \"But why, you might ask, was the Test Dataset so important? Well, dear reader, it served as a mirror reflecting the very essence of the software, exposing its vulnerabilities and frailties. It was Testy's trustworthy sidekick, always ready to point out flaws, inconsistencies, and missteps in the code. It was the guardian of reliability, ensuring that the software would perform its duties diligently without crashing or misbehaving. And it was the staunch defender of predictability, making sure that the software would respond consistently to various inputs and scenarios.\", 'rights_holder': 'Donkey from Shrek', 'usage_limitations': 'You may not use this dataset while wearing an eyepatch, unless you are an actual pirate sailing the high seas. In that case, a parrot on your shoulder is also required for compliance.', 'preferred_citation': 'Testy McTestface, \"The Test Dataset: A Mirror to the Soul of the Software\", Journal of Testy Software, 2021', 'spatial_info': {'coverage': 'SRID=4326;MULTIPOLYGON (((-75.0 40.0, -75.0 45.0, -70.0 45.0, -70.0 40.0, -75.0 40.0)), ((-73.0 42.0, -72.0 42.0, -72.0 43.0, -73.0 43.0, -73.0 42.0), (-72.5 42.5, -72.5 42.8, -72.8 42.8, -72.8 42.5, -72.5 42.5)))', 'resolution': 0.0013, 'extent': 'SRID=4326;POLYGON ((30 10, 40 40, 20 40, 10 20, 30 10))'}, 'temporal_info': {'duration': {'begin_date': '2020-07-24', 'end_date': '2020-07-25'}, 'resolution': 'P1Y2M10DT2H30M'}, 'formats': ['pdf', 'geojson'], 'keywords': ['Cool', 'Dataset'], 'version': None}}...\n",
      "{\n",
      "  \"status\": {\n",
      "    \"success\": true,\n",
      "    \"details\": \"Successfully updated metadata in Registry and S3 bucket - see location details.\"\n",
      "  },\n",
      "  \"handle\": \"10378.1/1764777\",\n",
      "  \"s3_location\": {\n",
      "    \"bucket_name\": \"restored-dev-dev-rrap-storage-bucket-11102022-11102022\",\n",
      "    \"path\": \"datasets/10378-1-1764777/\",\n",
      "    \"s3_uri\": \"s3://restored-dev-dev-rrap-storage-bucket-11102022-11102022/datasets/10378-1-1764777/\"\n",
      "  }\n",
      "}\n"
     ]
    }
   ],
   "source": [
    "new_version_id = version_response['new_version_id']\n",
    "metadata = registry.fetch_dataset_metadata(\n",
    "    registry_endpoint=registry_endpoint, id=new_version_id, auth=get_auth())\n",
    "\n",
    "updated_metadata = metadata  # \"copy\" to edit\n",
    "updated_metadata['dataset_info'][\"description\"] = \"This is a new version of the dataset!\"\n",
    "updated_metadata['dataset_info']['spatial_info']['resolution'] = 0.0013\n",
    "updated_metadata['associations'][\"point_of_contact\"] = \"Peter Baker\"\n",
    "updated_metadata['dataset_info']['temporal_info'] = {\n",
    "    \"duration\": {\n",
    "        \"begin_date\": \"2020-07-24\",\n",
    "        \"end_date\": \"2020-07-25\"\n",
    "    },\n",
    "    \"resolution\": \"P1Y2M10DT2H30M\"\n",
    "}\n",
    "\n",
    "\n",
    "update_response = datastore.update_dataset(datastore_endpoint=data_store_endpoint,\n",
    "                                           updated_metadata=updated_metadata, dataset_id=dataset_id, reason=reason, auth=get_auth())\n",
    "pprint_json(update_response)"
   ]
  }
 ],
 "metadata": {
  "kernelspec": {
   "display_name": ".venv",
   "language": "python",
   "name": "python3"
  },
  "language_info": {
   "codemirror_mode": {
    "name": "ipython",
    "version": 3
   },
   "file_extension": ".py",
   "mimetype": "text/x-python",
   "name": "python",
   "nbconvert_exporter": "python",
   "pygments_lexer": "ipython3",
   "version": "3.10.12"
  },
  "orig_nbformat": 4
 },
 "nbformat": 4,
 "nbformat_minor": 2
}
