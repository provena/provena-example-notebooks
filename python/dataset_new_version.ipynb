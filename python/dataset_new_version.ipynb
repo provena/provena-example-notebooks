{
 "cells": [
  {
   "cell_type": "code",
   "execution_count": null,
   "metadata": {},
   "outputs": [],
   "source": [
    "from helpers import datastore, registry\n",
    "import mdsisclienttools.auth.TokenManager as ProvenaAuth\n",
    "from utils import pprint_json\n",
    "from env_setup import get_auth, registry_endpoint, data_store_endpoint"
   ]
  },
  {
   "cell_type": "code",
   "execution_count": 3,
   "metadata": {},
   "outputs": [
    {
     "name": "stdout",
     "output_type": "stream",
     "text": [
      "Token validation failed due to error: Signature has expired.\n",
      "Refreshing using refresh token\n",
      "\n",
      "Attempting to generate authorisation tokens.\n",
      "\n",
      "Looking for existing tokens in local storage.\n",
      "\n",
      "Validating found tokens\n",
      "\n",
      "Found tokens valid, using.\n",
      "\n",
      "Versioning dataset with id: 10378.1/1766325...\n",
      "{\n",
      "  \"new_version_id\": \"10378.1/1766327\",\n",
      "  \"version_job_session_id\": \"6a328d89-09a7-4af9-acd8-e92ea5ce5bba\"\n",
      "}\n"
     ]
    }
   ],
   "source": [
    "dataset_id = \"10378.1/1766325\"\n",
    "reason=\"For demonstration Purposes, creating a second version of the dataset.\"\n",
    "version_response = datastore.version_dataset(datastore_endpoint=data_store_endpoint, dataset_id=dataset_id, reason=reason, auth=get_auth())\n",
    "pprint_json(version_response)\n"
   ]
  },
  {
   "cell_type": "code",
   "execution_count": null,
   "metadata": {},
   "outputs": [],
   "source": [
    "new_version_id = version_response['new_version_id']\n",
    "metadata = registry.fetch_dataset_metadata(\n",
    "    registry_endpoint=registry_endpoint, id=new_version_id, auth=get_auth())\n",
    "\n",
    "updated_metadata = metadata  # \"copy\" to edit\n",
    "updated_metadata['dataset_info'][\"description\"] = \"This is a new version of the dataset!\"\n",
    "updated_metadata['dataset_info']['spatial_info']['resolution'] = 0.0013\n",
    "updated_metadata['associations'][\"point_of_contact\"] = \"Peter Baker\"\n",
    "updated_metadata['dataset_info']['temporal_info'] = {\n",
    "    \"duration\": {\n",
    "        \"begin_date\": \"2020-07-24\",\n",
    "        \"end_date\": \"2020-07-25\"\n",
    "    },\n",
    "    \"resolution\": \"P1Y2M10DT2H30M\"\n",
    "}\n",
    "\n",
    "\n",
    "update_response = datastore.update_dataset(datastore_endpoint=data_store_endpoint,\n",
    "                                           updated_metadata=updated_metadata, dataset_id=new_version_id, reason=reason, auth=get_auth())\n",
    "pprint_json(update_response)"
   ]
  }
 ],
 "metadata": {
  "kernelspec": {
   "display_name": ".venv",
   "language": "python",
   "name": "python3"
  },
  "language_info": {
   "codemirror_mode": {
    "name": "ipython",
    "version": 3
   },
   "file_extension": ".py",
   "mimetype": "text/x-python",
   "name": "python",
   "nbconvert_exporter": "python",
   "pygments_lexer": "ipython3",
   "version": "3.10.13"
  },
  "orig_nbformat": 4
 },
 "nbformat": 4,
 "nbformat_minor": 2
}
