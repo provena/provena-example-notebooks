{
 "cells": [
  {
   "cell_type": "code",
   "execution_count": null,
   "metadata": {},
   "outputs": [],
   "source": [
    "from helpers import datastore, registry\n",
    "import mdsisclienttools.auth.TokenManager as ProvenaAuth\n",
    "from utils import pprint_json\n",
    "\n",
    "PROVENA_DOMAIN = \"dev.rrap-is.com\"\n",
    "\n",
    "# Edit this to point to the Keycloak instance for your Provena instance\n",
    "kc_endpoint = \"https://auth.dev.rrap-is.com/auth/realms/rrap\"\n",
    "\n",
    "stage = \"DEV\"\n",
    "registry_endpoint = \"https://registry-api.{}\".format(PROVENA_DOMAIN)\n",
    "provenance_endpoint = \"https://prov-api.{}\".format(PROVENA_DOMAIN)\n",
    "data_store_endpoint = \"https://data-api.{}\".format(PROVENA_DOMAIN)\n",
    "job_endpoint =  \"https://job-api.{}\".format(PROVENA_DOMAIN)\n",
    "\n",
    "# sets up auth connections - could potentially open browser window if not signed\n",
    "# in recently - caches in .tokens.json - ensure this is included in gitignore\n",
    "provena_auth = ProvenaAuth.DeviceFlowManager(\n",
    "    stage=stage,\n",
    "    keycloak_endpoint=kc_endpoint\n",
    ")\n",
    "\n",
    "# expose the get auth function which is used for provena methods \n",
    "get_auth = provena_auth.get_auth\n",
    "\n"
   ]
  },
  {
   "cell_type": "code",
   "execution_count": null,
   "metadata": {},
   "outputs": [],
   "source": [
    "dataset_id = \"10378.1/1764769\"\n",
    "reason=\"For demonstration Purposes, creating a second version of the dataset.\"\n",
    "version_response = datastore.version_dataset(datastore_endpoint=data_store_endpoint, dataset_id=dataset_id, reason=reason, auth=get_auth())\n",
    "pprint_json(version_response)\n"
   ]
  },
  {
   "cell_type": "code",
   "execution_count": null,
   "metadata": {},
   "outputs": [],
   "source": [
    "new_version_id = version_response['new_version_id']\n",
    "metadata = registry.fetch_dataset_metadata(\n",
    "    registry_endpoint=registry_endpoint, id=new_version_id, auth=get_auth())\n",
    "\n",
    "updated_metadata = metadata  # \"copy\" to edit\n",
    "updated_metadata['dataset_info'][\"description\"] = \"This is a new version of the dataset!\"\n",
    "updated_metadata['dataset_info']['spatial_info']['resolution'] = 0.0013\n",
    "updated_metadata['associations'][\"point_of_contact\"] = \"Peter Baker\"\n",
    "updated_metadata['dataset_info']['temporal_info'] = {\n",
    "    \"duration\": {\n",
    "        \"begin_date\": \"2020-07-24\",\n",
    "        \"end_date\": \"2020-07-25\"\n",
    "    },\n",
    "    \"resolution\": \"P1Y2M10DT2H30M\"\n",
    "}\n",
    "\n",
    "\n",
    "update_response = datastore.update_dataset(datastore_endpoint=data_store_endpoint,\n",
    "                                           updated_metadata=updated_metadata, dataset_id=dataset_id, reason=reason, auth=get_auth())\n",
    "pprint_json(update_response)"
   ]
  }
 ],
 "metadata": {
  "kernelspec": {
   "display_name": ".venv",
   "language": "python",
   "name": "python3"
  },
  "language_info": {
   "codemirror_mode": {
    "name": "ipython",
    "version": 3
   },
   "file_extension": ".py",
   "mimetype": "text/x-python",
   "name": "python",
   "nbconvert_exporter": "python",
   "pygments_lexer": "ipython3",
   "version": "3.10.12"
  },
  "orig_nbformat": 4
 },
 "nbformat": 4,
 "nbformat_minor": 2
}
