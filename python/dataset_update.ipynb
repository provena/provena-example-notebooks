{
 "cells": [
  {
   "cell_type": "code",
   "execution_count": 7,
   "metadata": {},
   "outputs": [],
   "source": [
    "from helpers import datastore, registry\n",
    "import mdsisclienttools.auth.TokenManager as ProvenaAuth\n",
    "from utils import pprint_json\n",
    "import json\n",
    "from env_setup import get_auth, registry_endpoint, data_store_endpoint"
   ]
  },
  {
   "cell_type": "markdown",
   "metadata": {},
   "source": [
    "## Updating Dataset Metadata (Adding missed fields or changing existing fields)\n",
    "Updating metadata facilitates the addition of new (previously left blank) fields, as well as overwriting existing fields. The process is implemented as a complete override, meaning you will need to provide the update endpoint with a complete reflection of the final desired metadata after the update process. This necessitates the acquisition of the current existing metadata. To this end, the following sections will demonstrate how to retrieve the existing metadata from the source of truth (Data Store), and how to update it, then post this update to the Data Store via the API."
   ]
  },
  {
   "cell_type": "markdown",
   "metadata": {},
   "source": [
    "#### Fetch Existing Metadata using the registry\n",
    "Incase others have edited the metadata of a dataset, its best practise to fetch the metadata from the registry (source of truth), and update it with the new fields. This ensures your update process is not overwriting any changes made by other users in fields that you actually desire to leave unchanged."
   ]
  },
  {
   "cell_type": "code",
   "execution_count": 8,
   "metadata": {},
   "outputs": [
    {
     "name": "stdout",
     "output_type": "stream",
     "text": [
      "Fetching from registry, id: 10378.1/1764777...\n",
      "{\n",
      "  \"associations\": {\n",
      "    \"organisation_id\": \"10378.1/1764284\",\n",
      "    \"data_custodian_id\": \"10378.1/1758949\",\n",
      "    \"point_of_contact\": \"Lazaros\"\n",
      "  },\n",
      "  \"approvals\": {\n",
      "    \"ethics_registration\": {\n",
      "      \"relevant\": false,\n",
      "      \"obtained\": false\n",
      "    },\n",
      "    \"ethics_access\": {\n",
      "      \"relevant\": false,\n",
      "      \"obtained\": false\n",
      "    },\n",
      "    \"indigenous_knowledge\": {\n",
      "      \"relevant\": false,\n",
      "      \"obtained\": false\n",
      "    },\n",
      "    \"export_controls\": {\n",
      "      \"relevant\": false,\n",
      "      \"obtained\": false\n",
      "    }\n",
      "  },\n",
      "  \"dataset_info\": {\n",
      "    \"name\": \"The Test Dataset: A Mirror to the Soul of the Software\",\n",
      "    \"description\": \"This is a test dataset purposed for demonstrating registration via API endpoint.\",\n",
      "    \"access_info\": {\n",
      "      \"reposited\": true,\n",
      "      \"uri\": null,\n",
      "      \"description\": null\n",
      "    },\n",
      "    \"publisher_id\": \"10378.1/1764284\",\n",
      "    \"created_date\": \"2022-10-02\",\n",
      "    \"published_date\": \"2023-10-03\",\n",
      "    \"license\": \"https://creativecommons.org/licenses/by/4.0/\",\n",
      "    \"purpose\": \"But why, you might ask, was the Test Dataset so important? Well, dear reader, it served as a mirror reflecting the very essence of the software, exposing its vulnerabilities and frailties. It was Testy's trustworthy sidekick, always ready to point out flaws, inconsistencies, and missteps in the code. It was the guardian of reliability, ensuring that the software would perform its duties diligently without crashing or misbehaving. And it was the staunch defender of predictability, making sure that the software would respond consistently to various inputs and scenarios.\",\n",
      "    \"rights_holder\": \"Donkey from Shrek\",\n",
      "    \"usage_limitations\": \"You may not use this dataset while wearing an eyepatch, unless you are an actual pirate sailing the high seas. In that case, a parrot on your shoulder is also required for compliance.\",\n",
      "    \"preferred_citation\": \"Testy McTestface, \\\"The Test Dataset: A Mirror to the Soul of the Software\\\", Journal of Testy Software, 2021\",\n",
      "    \"spatial_info\": {\n",
      "      \"coverage\": \"SRID=4326;MULTIPOLYGON (((-75.0 40.0, -75.0 45.0, -70.0 45.0, -70.0 40.0, -75.0 40.0)), ((-73.0 42.0, -72.0 42.0, -72.0 43.0, -73.0 43.0, -73.0 42.0), (-72.5 42.5, -72.5 42.8, -72.8 42.8, -72.8 42.5, -72.5 42.5)))\",\n",
      "      \"resolution\": \"0.00125\",\n",
      "      \"extent\": \"SRID=4326;POLYGON ((30 10, 40 40, 20 40, 10 20, 30 10))\"\n",
      "    },\n",
      "    \"temporal_info\": {\n",
      "      \"duration\": {\n",
      "        \"begin_date\": \"2019-08-24\",\n",
      "        \"end_date\": \"2019-08-25\"\n",
      "      },\n",
      "      \"resolution\": \"P1Y2M10DT2H30M\"\n",
      "    },\n",
      "    \"formats\": [\n",
      "      \"pdf\",\n",
      "      \"geojson\"\n",
      "    ],\n",
      "    \"keywords\": [\n",
      "      \"Cool\",\n",
      "      \"Dataset\"\n",
      "    ],\n",
      "    \"version\": null\n",
      "  }\n",
      "}\n"
     ]
    }
   ],
   "source": [
    "dataset_id = \"10378.1/1764777\"\n",
    "current_metadata = registry.fetch_dataset_metadata(registry_endpoint=registry_endpoint, id=dataset_id, auth=get_auth())\n",
    "pprint_json(current_metadata)\n"
   ]
  },
  {
   "cell_type": "markdown",
   "metadata": {},
   "source": [
    "#### Programatic Edit of Metadata"
   ]
  },
  {
   "cell_type": "code",
   "execution_count": 9,
   "metadata": {},
   "outputs": [],
   "source": [
    "updated_metadata = current_metadata # \"copy\"\n",
    "updated_metadata['dataset_info'][\"description\"] = \"This is an updated description for test purposes!\"\n",
    "updated_metadata['dataset_info']['spatial_info']['resolution'] = 0.0013\n",
    "updated_metadata['dataset_info']['spatial_info']['extent'] = \"SRID=4326;POLYGON ((30 10, 40 40, 20 40, 10 20, 30 10))\"\n",
    "updated_metadata['associations'][\"point_of_contact\"] = \"Peter Baker\"\n",
    "#pprint_json(updated_metadata)\n"
   ]
  },
  {
   "cell_type": "markdown",
   "metadata": {},
   "source": [
    "#### Post update to Datastore API\n",
    "Once you have the metadata, you can update it with the new fields, and post it to the Datastore API. The API will then update the metadata in the Datastore.\n"
   ]
  },
  {
   "cell_type": "code",
   "execution_count": 10,
   "metadata": {},
   "outputs": [
    {
     "name": "stdout",
     "output_type": "stream",
     "text": [
      "Updating dataset with metadata: {'associations': {'organisation_id': '10378.1/1764284', 'data_custodian_id': '10378.1/1758949', 'point_of_contact': 'Peter Baker'}, 'approvals': {'ethics_registration': {'relevant': False, 'obtained': False}, 'ethics_access': {'relevant': False, 'obtained': False}, 'indigenous_knowledge': {'relevant': False, 'obtained': False}, 'export_controls': {'relevant': False, 'obtained': False}}, 'dataset_info': {'name': 'The Test Dataset: A Mirror to the Soul of the Software', 'description': 'This is an updated description for test purposes!', 'access_info': {'reposited': True, 'uri': None, 'description': None}, 'publisher_id': '10378.1/1764284', 'created_date': '2022-10-02', 'published_date': '2023-10-03', 'license': 'https://creativecommons.org/licenses/by/4.0/', 'purpose': \"But why, you might ask, was the Test Dataset so important? Well, dear reader, it served as a mirror reflecting the very essence of the software, exposing its vulnerabilities and frailties. It was Testy's trustworthy sidekick, always ready to point out flaws, inconsistencies, and missteps in the code. It was the guardian of reliability, ensuring that the software would perform its duties diligently without crashing or misbehaving. And it was the staunch defender of predictability, making sure that the software would respond consistently to various inputs and scenarios.\", 'rights_holder': 'Donkey from Shrek', 'usage_limitations': 'You may not use this dataset while wearing an eyepatch, unless you are an actual pirate sailing the high seas. In that case, a parrot on your shoulder is also required for compliance.', 'preferred_citation': 'Testy McTestface, \"The Test Dataset: A Mirror to the Soul of the Software\", Journal of Testy Software, 2021', 'spatial_info': {'coverage': 'SRID=4326;MULTIPOLYGON (((-75.0 40.0, -75.0 45.0, -70.0 45.0, -70.0 40.0, -75.0 40.0)), ((-73.0 42.0, -72.0 42.0, -72.0 43.0, -73.0 43.0, -73.0 42.0), (-72.5 42.5, -72.5 42.8, -72.8 42.8, -72.8 42.5, -72.5 42.5)))', 'resolution': 0.0013, 'extent': 'SRID=4326;POLYGON ((30 10, 40 40, 20 40, 10 20, 30 10))'}, 'temporal_info': {'duration': {'begin_date': '2019-08-24', 'end_date': '2019-08-25'}, 'resolution': 'P1Y2M10DT2H30M'}, 'formats': ['pdf', 'geojson'], 'keywords': ['Cool', 'Dataset'], 'version': None}}...\n",
      "{\n",
      "  \"status\": {\n",
      "    \"success\": true,\n",
      "    \"details\": \"Successfully updated metadata in Registry and S3 bucket - see location details.\"\n",
      "  },\n",
      "  \"handle\": \"10378.1/1764777\",\n",
      "  \"s3_location\": {\n",
      "    \"bucket_name\": \"restored-dev-dev-rrap-storage-bucket-11102022-11102022\",\n",
      "    \"path\": \"datasets/10378-1-1764777/\",\n",
      "    \"s3_uri\": \"s3://restored-dev-dev-rrap-storage-bucket-11102022-11102022/datasets/10378-1-1764777/\"\n",
      "  }\n",
      "}\n"
     ]
    }
   ],
   "source": [
    "reason = \"Testing API update functionality.\"\n",
    "update_response = datastore.update_dataset(datastore_endpoint=data_store_endpoint, updated_metadata=updated_metadata, dataset_id=dataset_id, reason=reason, auth=get_auth())\n",
    "pprint_json(update_response)"
   ]
  },
  {
   "cell_type": "markdown",
   "metadata": {},
   "source": [
    "#### Alternative (manual) Method to editing the metadata payload for update\n",
    "1. Fetch the current metadata\n",
    "2. Save to file and edit this file\n",
    "3. Read in the file and post to API.\n",
    "\n",
    "This method prevents the need to edit metadata in code which can be confusing with the key-value pairs and correct location. Nevertheless, the API will reject incorrectly formatted metadata payloads."
   ]
  },
  {
   "cell_type": "code",
   "execution_count": 11,
   "metadata": {},
   "outputs": [
    {
     "name": "stdout",
     "output_type": "stream",
     "text": [
      "Fetching from registry, id: 10378.1/1764777...\n"
     ]
    }
   ],
   "source": [
    "current_metadata = registry.fetch_dataset_metadata(registry_endpoint=registry_endpoint, id=dataset_id, auth=get_auth())\n",
    "# write to file\n",
    "updated_metadata_file_path = \"configs/updated_metadata.json\"\n",
    "with open(updated_metadata_file_path, \"w\") as f:\n",
    "    json.dump(current_metadata, f, indent=2)"
   ]
  },
  {
   "cell_type": "code",
   "execution_count": 12,
   "metadata": {},
   "outputs": [
    {
     "name": "stdout",
     "output_type": "stream",
     "text": [
      "Updating dataset with metadata: {'associations': {'organisation_id': '10378.1/1764284', 'data_custodian_id': '10378.1/1758949', 'point_of_contact': 'Peter Baker'}, 'approvals': {'ethics_registration': {'relevant': False, 'obtained': False}, 'ethics_access': {'relevant': False, 'obtained': False}, 'indigenous_knowledge': {'relevant': False, 'obtained': False}, 'export_controls': {'relevant': False, 'obtained': False}}, 'dataset_info': {'name': 'The Test Dataset: A Mirror to the Soul of the Software', 'description': 'This is an updated description for test purposes!', 'access_info': {'reposited': True, 'uri': None, 'description': None}, 'publisher_id': '10378.1/1764284', 'created_date': '2022-10-02', 'published_date': '2023-10-03', 'license': 'https://creativecommons.org/licenses/by/4.0/', 'purpose': \"But why, you might ask, was the Test Dataset so important? Well, dear reader, it served as a mirror reflecting the very essence of the software, exposing its vulnerabilities and frailties. It was Testy's trustworthy sidekick, always ready to point out flaws, inconsistencies, and missteps in the code. It was the guardian of reliability, ensuring that the software would perform its duties diligently without crashing or misbehaving. And it was the staunch defender of predictability, making sure that the software would respond consistently to various inputs and scenarios.\", 'rights_holder': 'Donkey from Shrek', 'usage_limitations': 'You may not use this dataset while wearing an eyepatch, unless you are an actual pirate sailing the high seas. In that case, a parrot on your shoulder is also required for compliance.', 'preferred_citation': 'Testy McTestface, \"The Test Dataset: A Mirror to the Soul of the Software\", Journal of Testy Software, 2021', 'spatial_info': {'coverage': 'SRID=4326;MULTIPOLYGON (((-75.0 40.0, -75.0 45.0, -70.0 45.0, -70.0 40.0, -75.0 40.0)), ((-73.0 42.0, -72.0 42.0, -72.0 43.0, -73.0 43.0, -73.0 42.0), (-72.5 42.5, -72.5 42.8, -72.8 42.8, -72.8 42.5, -72.5 42.5)))', 'resolution': '0.0013', 'extent': 'SRID=4326;POLYGON ((30 10, 40 40, 20 40, 10 20, 30 10))'}, 'temporal_info': {'duration': {'begin_date': '2019-08-24', 'end_date': '2019-08-25'}, 'resolution': 'P1Y2M10DT2H30M'}, 'formats': ['pdf', 'geojson'], 'keywords': ['Cool', 'Dataset'], 'version': None}}...\n",
      "{\n",
      "  \"status\": {\n",
      "    \"success\": true,\n",
      "    \"details\": \"Successfully updated metadata in Registry and S3 bucket - see location details.\"\n",
      "  },\n",
      "  \"handle\": \"10378.1/1764777\",\n",
      "  \"s3_location\": {\n",
      "    \"bucket_name\": \"restored-dev-dev-rrap-storage-bucket-11102022-11102022\",\n",
      "    \"path\": \"datasets/10378-1-1764777/\",\n",
      "    \"s3_uri\": \"s3://restored-dev-dev-rrap-storage-bucket-11102022-11102022/datasets/10378-1-1764777/\"\n",
      "  }\n",
      "}\n"
     ]
    }
   ],
   "source": [
    "# After editing the file, read it back in and send to the update endpoint\n",
    "with open(updated_metadata_file_path) as f:\n",
    "    updated_metadata = json.load(f)\n",
    "\n",
    "update_response = datastore.update_dataset(datastore_endpoint=data_store_endpoint, updated_metadata=updated_metadata, dataset_id=dataset_id, reason=reason, auth=get_auth())\n",
    "pprint_json(update_response)"
   ]
  }
 ],
 "metadata": {
  "kernelspec": {
   "display_name": ".venv",
   "language": "python",
   "name": "python3"
  },
  "language_info": {
   "codemirror_mode": {
    "name": "ipython",
    "version": 3
   },
   "file_extension": ".py",
   "mimetype": "text/x-python",
   "name": "python",
   "nbconvert_exporter": "python",
   "pygments_lexer": "ipython3",
   "version": "3.10.12"
  },
  "orig_nbformat": 4
 },
 "nbformat": 4,
 "nbformat_minor": 2
}
