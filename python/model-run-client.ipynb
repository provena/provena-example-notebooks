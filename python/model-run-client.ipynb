{
 "cells": [
  {
   "attachments": {},
   "cell_type": "markdown",
   "metadata": {},
   "source": [
    "## Provena Toy Example\n",
    "\n",
    "This relies on some pre-registered components and is intended to show an example provenance enabled workflow by integrating with the provena APIs. \n",
    "\n",
    "The actual computation/validation has been stripped from the source notebook - but hopefully it will be clear where this can be reintroduced"
   ]
  },
  {
   "attachments": {},
   "cell_type": "markdown",
   "metadata": {},
   "source": [
    "### Provena workflow configuration setup"
   ]
  },
  {
   "cell_type": "code",
   "execution_count": 1,
   "metadata": {},
   "outputs": [],
   "source": [
    "# This is a small helper class which provides a config object for validation and\n",
    "# a loader function\n",
    "import example_workflow_config\n",
    "\n",
    "# This is a helper function for managing authentication with Provena\n",
    "from provenaclient import ProvenaClient, Config\n",
    "from provenaclient.auth import DeviceFlow\n",
    "from provenaclient.auth.implementations import OfflineFlow\n",
    "\n",
    "import json\n",
    "import time\n",
    "import requests"
   ]
  },
  {
   "cell_type": "code",
   "execution_count": 2,
   "metadata": {},
   "outputs": [],
   "source": [
    "import os\n",
    "#from dotenv import load_dotenv\n",
    "\n",
    "\n",
    "# Provena config - replace with your Provena instance endpoints\n",
    "client_config = Config(\n",
    "    domain=\"dev.rrap-is.com\",\n",
    "    realm_name=\"rrap\"\n",
    ")\n",
    "\n",
    "\n",
    "offline_mode = False\n",
    "\n",
    "if offline_mode:\n",
    "    load_dotenv('.env')\n",
    "    offline_token=os.getenv('PROVENA_API_TOKEN')\n",
    "    assert offline_token, \"Offline token must be present in .env file e.g. PROVENA_API_TOKEN=1234.\"\n",
    "    print(f\"Offline mode activated and token found in .env file.\")\n",
    "\n",
    "if not offline_mode:\n",
    "    auth = DeviceFlow(keycloak_endpoint=client_config.keycloak_endpoint,\n",
    "                    client_id=\"client-tools\")\n",
    "else:\n",
    "    auth = OfflineFlow(keycloak_endpoint=client_config.keycloak_endpoint)\n",
    "\n",
    "\n",
    "# Instantiate the client.\n",
    "client = ProvenaClient(config=client_config, auth=auth)"
   ]
  },
  {
   "cell_type": "code",
   "execution_count": 3,
   "metadata": {},
   "outputs": [
    {
     "name": "stdout",
     "output_type": "stream",
     "text": [
      "{\n",
      "  \"inputs\": {\n",
      "    \"input_dataset\": \"10378.1/1904964\",\n",
      "    \"input_dataset_template\": \"10378.1/1905250\"\n",
      "  },\n",
      "  \"outputs\": {\n",
      "    \"output_dataset\": \"10378.1/1904961\",\n",
      "    \"output_dataset_template\": \"10378.1/1913346\"\n",
      "  },\n",
      "  \"associations\": {\n",
      "    \"person\": \"10378.1/1893843\",\n",
      "    \"organisation\": \"10378.1/1893860\"\n",
      "  },\n",
      "  \"workflow_configuration\": {\n",
      "    \"workflow_template\": \"10378.1/1905251\"\n",
      "  }\n",
      "}\n"
     ]
    }
   ],
   "source": [
    "# Start by loading the config from the specified path \n",
    "\n",
    "# You will need to register: person, organisation, dataset template and model run workflow template and update the config\n",
    "\n",
    "# NOTE this could change from run to run - this holds all information required to run this model. \n",
    "config_path = \"configs/example_workflow3.json\"\n",
    "config = example_workflow_config.load_config(path=config_path)\n",
    "config.pprint()\n"
   ]
  },
  {
   "cell_type": "code",
   "execution_count": 4,
   "metadata": {},
   "outputs": [
    {
     "name": "stdout",
     "output_type": "stream",
     "text": [
      "Validating registered Provena entities in config\n",
      "in here.\n",
      "Validating registered input datasets...\n",
      "in loop.\n",
      "in here.\n",
      "status=Status(success=True, details=\"Successfully fetched data for handle '10378.1/1904964'\") item=ItemDataset(display_name='Parth testing', user_metadata=None, collection_format=CollectionFormat(associations=CollectionFormatAssociations(organisation_id='10378.1/1893860', data_custodian_id='10378.1/1893843', point_of_contact=None), approvals=CollectionFormatApprovals(ethics_registration=DatasetEthicsRegistrationCheck(relevant=False, obtained=False), ethics_access=DatasetEthicsAccessCheck(relevant=False, obtained=False), indigenous_knowledge=IndigenousKnowledgeCheck(relevant=False, obtained=False), export_controls=ExportControls(relevant=False, obtained=False)), dataset_info=CollectionFormatDatasetInfo(name='Parth testing', description='testing dataset', access_info=AccessInfo(reposited=True, uri=None, description=None), publisher_id='10378.1/1893860', created_date=datetime.date(2024, 6, 6), published_date=datetime.date(2024, 6, 6), license=AnyHttpUrl('https://www.google.com', ), purpose=None, rights_holder=None, usage_limitations=None, preferred_citation=None, spatial_info=CollectionFormatSpatialInfo(coverage=None, resolution=None, extent='SRID=4326;POINT(-44.3 60.1)'), temporal_info=None, formats=None, keywords=None, user_metadata=None, version=None)), s3=S3Location(bucket_name='restored-dev-dev-rrap-storage-bucket-11102022-11102022', path='datasets/10378-1-1904964/', s3_uri='s3://restored-dev-dev-rrap-storage-bucket-11102022-11102022/datasets/10378-1-1904964/'), release_history=[], release_status=<ReleasedStatus.NOT_RELEASED: 'NOT_RELEASED'>, release_approver=None, release_timestamp=None, access_info_uri=None, history=[HistoryEntry[DatasetDomainInfo](id=5, timestamp=1718239752, reason='s', username='ross', item=DatasetDomainInfo(display_name='Parth testing', collection_format=CollectionFormat(associations=CollectionFormatAssociations(organisation_id='10378.1/1893860', data_custodian_id='10378.1/1893843', point_of_contact=None), approvals=CollectionFormatApprovals(ethics_registration=DatasetEthicsRegistrationCheck(relevant=False, obtained=False), ethics_access=DatasetEthicsAccessCheck(relevant=False, obtained=False), indigenous_knowledge=IndigenousKnowledgeCheck(relevant=False, obtained=False), export_controls=ExportControls(relevant=False, obtained=False)), dataset_info=CollectionFormatDatasetInfo(name='Parth testing', description='testing dataset', access_info=AccessInfo(reposited=True, uri=None, description=None), publisher_id='10378.1/1893860', created_date=datetime.date(2024, 6, 6), published_date=datetime.date(2024, 6, 6), license=AnyHttpUrl('https://www.google.com', ), purpose=None, rights_holder=None, usage_limitations=None, preferred_citation=None, spatial_info=CollectionFormatSpatialInfo(coverage=None, resolution=None, extent='SRID=4326;POINT(-44.3 60.1)'), temporal_info=None, formats=None, keywords=None, user_metadata=None, version=None)), s3=S3Location(bucket_name='restored-dev-dev-rrap-storage-bucket-11102022-11102022', path='datasets/10378-1-1904964/', s3_uri='s3://restored-dev-dev-rrap-storage-bucket-11102022-11102022/datasets/10378-1-1904964/'), release_history=[], release_status=<ReleasedStatus.NOT_RELEASED: 'NOT_RELEASED'>, release_approver=None, release_timestamp=None, access_info_uri=None, user_metadata=None)), HistoryEntry[DatasetDomainInfo](id=4, timestamp=1718239743, reason='ss', username='ross', item=DatasetDomainInfo(display_name='Parth testing', collection_format=CollectionFormat(associations=CollectionFormatAssociations(organisation_id='10378.1/1893860', data_custodian_id='10378.1/1893843', point_of_contact=None), approvals=CollectionFormatApprovals(ethics_registration=DatasetEthicsRegistrationCheck(relevant=False, obtained=False), ethics_access=DatasetEthicsAccessCheck(relevant=False, obtained=False), indigenous_knowledge=IndigenousKnowledgeCheck(relevant=False, obtained=False), export_controls=ExportControls(relevant=False, obtained=False)), dataset_info=CollectionFormatDatasetInfo(name='Parth testing', description='testing dataset', access_info=AccessInfo(reposited=True, uri=None, description=None), publisher_id='10378.1/1893860', created_date=datetime.date(2024, 6, 6), published_date=datetime.date(2024, 6, 6), license=AnyHttpUrl('https://www.google.com', ), purpose=None, rights_holder=None, usage_limitations=None, preferred_citation=None, spatial_info=CollectionFormatSpatialInfo(coverage='SRID=4326;POINT(-44.3 60.1)', resolution=None, extent='SRID=4326;POINT(-44.3 60.1)'), temporal_info=None, formats=None, keywords=None, user_metadata=None, version=None)), s3=S3Location(bucket_name='restored-dev-dev-rrap-storage-bucket-11102022-11102022', path='datasets/10378-1-1904964/', s3_uri='s3://restored-dev-dev-rrap-storage-bucket-11102022-11102022/datasets/10378-1-1904964/'), release_history=[], release_status=<ReleasedStatus.NOT_RELEASED: 'NOT_RELEASED'>, release_approver=None, release_timestamp=None, access_info_uri=None, user_metadata=None)), HistoryEntry[DatasetDomainInfo](id=3, timestamp=1718239729, reason='cccc', username='ross', item=DatasetDomainInfo(display_name='Parth testing', collection_format=CollectionFormat(associations=CollectionFormatAssociations(organisation_id='10378.1/1893860', data_custodian_id='10378.1/1893843', point_of_contact=None), approvals=CollectionFormatApprovals(ethics_registration=DatasetEthicsRegistrationCheck(relevant=False, obtained=False), ethics_access=DatasetEthicsAccessCheck(relevant=False, obtained=False), indigenous_knowledge=IndigenousKnowledgeCheck(relevant=False, obtained=False), export_controls=ExportControls(relevant=False, obtained=False)), dataset_info=CollectionFormatDatasetInfo(name='Parth testing', description='testing dataset', access_info=AccessInfo(reposited=True, uri=None, description=None), publisher_id='10378.1/1893860', created_date=datetime.date(2024, 6, 6), published_date=datetime.date(2024, 6, 6), license=AnyHttpUrl('https://www.google.com', ), purpose=None, rights_holder=None, usage_limitations=None, preferred_citation=None, spatial_info=CollectionFormatSpatialInfo(coverage='SRID=4326;POINT(-44.3 60.1)', resolution=None, extent=None), temporal_info=None, formats=None, keywords=None, user_metadata=None, version=None)), s3=S3Location(bucket_name='restored-dev-dev-rrap-storage-bucket-11102022-11102022', path='datasets/10378-1-1904964/', s3_uri='s3://restored-dev-dev-rrap-storage-bucket-11102022-11102022/datasets/10378-1-1904964/'), release_history=[], release_status=<ReleasedStatus.NOT_RELEASED: 'NOT_RELEASED'>, release_approver=None, release_timestamp=None, access_info_uri=None, user_metadata=None)), HistoryEntry[DatasetDomainInfo](id=2, timestamp=1718237215, reason='v', username='ross', item=DatasetDomainInfo(display_name='Parth testing', collection_format=CollectionFormat(associations=CollectionFormatAssociations(organisation_id='10378.1/1893860', data_custodian_id='10378.1/1893843', point_of_contact=None), approvals=CollectionFormatApprovals(ethics_registration=DatasetEthicsRegistrationCheck(relevant=False, obtained=False), ethics_access=DatasetEthicsAccessCheck(relevant=False, obtained=False), indigenous_knowledge=IndigenousKnowledgeCheck(relevant=False, obtained=False), export_controls=ExportControls(relevant=False, obtained=False)), dataset_info=CollectionFormatDatasetInfo(name='Parth testing', description='testing dataset', access_info=AccessInfo(reposited=True, uri=None, description=None), publisher_id='10378.1/1893860', created_date=datetime.date(2024, 6, 6), published_date=datetime.date(2024, 6, 6), license=AnyHttpUrl('https://www.google.com', ), purpose=None, rights_holder=None, usage_limitations=None, preferred_citation=None, spatial_info=CollectionFormatSpatialInfo(coverage=None, resolution=None, extent='SRID=4326;POINT(-44.3 60.1)'), temporal_info=None, formats=None, keywords=None, user_metadata=None, version=None)), s3=S3Location(bucket_name='restored-dev-dev-rrap-storage-bucket-11102022-11102022', path='datasets/10378-1-1904964/', s3_uri='s3://restored-dev-dev-rrap-storage-bucket-11102022-11102022/datasets/10378-1-1904964/'), release_history=[], release_status=<ReleasedStatus.NOT_RELEASED: 'NOT_RELEASED'>, release_approver=None, release_timestamp=None, access_info_uri=None, user_metadata=None)), HistoryEntry[DatasetDomainInfo](id=1, timestamp=1718237197, reason='x', username='ross', item=DatasetDomainInfo(display_name='Parth testing', collection_format=CollectionFormat(associations=CollectionFormatAssociations(organisation_id='10378.1/1893860', data_custodian_id='10378.1/1893843', point_of_contact=None), approvals=CollectionFormatApprovals(ethics_registration=DatasetEthicsRegistrationCheck(relevant=False, obtained=False), ethics_access=DatasetEthicsAccessCheck(relevant=False, obtained=False), indigenous_knowledge=IndigenousKnowledgeCheck(relevant=False, obtained=False), export_controls=ExportControls(relevant=False, obtained=False)), dataset_info=CollectionFormatDatasetInfo(name='Parth testing', description='testing dataset', access_info=AccessInfo(reposited=True, uri=None, description=None), publisher_id='10378.1/1893860', created_date=datetime.date(2024, 6, 6), published_date=datetime.date(2024, 6, 6), license=AnyHttpUrl('https://www.google.com', ), purpose=None, rights_holder=None, usage_limitations=None, preferred_citation=None, spatial_info=CollectionFormatSpatialInfo(coverage='SRID=4326;POINT(-44.3 60.1)', resolution=None, extent=None), temporal_info=None, formats=None, keywords=None, user_metadata=None, version=None)), s3=S3Location(bucket_name='restored-dev-dev-rrap-storage-bucket-11102022-11102022', path='datasets/10378-1-1904964/', s3_uri='s3://restored-dev-dev-rrap-storage-bucket-11102022-11102022/datasets/10378-1-1904964/'), release_history=[], release_status=<ReleasedStatus.NOT_RELEASED: 'NOT_RELEASED'>, release_approver=None, release_timestamp=None, access_info_uri=None, user_metadata=None)), HistoryEntry[DatasetDomainInfo](id=0, timestamp=1717633792, reason='Initial record creation', username='parth', item=DatasetDomainInfo(display_name='Parth testing', collection_format=CollectionFormat(associations=CollectionFormatAssociations(organisation_id='10378.1/1893860', data_custodian_id='10378.1/1893843', point_of_contact=None), approvals=CollectionFormatApprovals(ethics_registration=DatasetEthicsRegistrationCheck(relevant=False, obtained=False), ethics_access=DatasetEthicsAccessCheck(relevant=False, obtained=False), indigenous_knowledge=IndigenousKnowledgeCheck(relevant=False, obtained=False), export_controls=ExportControls(relevant=False, obtained=False)), dataset_info=CollectionFormatDatasetInfo(name='Parth testing', description='testing dataset', access_info=AccessInfo(reposited=True, uri=None, description=None), publisher_id='10378.1/1893860', created_date=datetime.date(2024, 6, 6), published_date=datetime.date(2024, 6, 6), license=AnyHttpUrl('https://www.google.com', ), purpose=None, rights_holder=None, usage_limitations=None, preferred_citation=None, spatial_info=None, temporal_info=None, formats=None, keywords=None, user_metadata=None, version=None)), s3=S3Location(bucket_name='restored-dev-dev-rrap-storage-bucket-11102022-11102022', path='datasets/10378-1-1904964/', s3_uri='s3://restored-dev-dev-rrap-storage-bucket-11102022-11102022/datasets/10378-1-1904964/'), release_history=[], release_status=<ReleasedStatus.NOT_RELEASED: 'NOT_RELEASED'>, release_approver=None, release_timestamp=None, access_info_uri=None, user_metadata=None))], id='10378.1/1904964', owner_username='parth', created_timestamp=1717633791, updated_timestamp=1718239752, item_category=<ItemCategory.ENTITY: 'ENTITY'>, item_subtype=<ItemSubType.DATASET: 'DATASET'>, record_type=<RecordType.COMPLETE_ITEM: 'COMPLETE_ITEM'>, workflow_links=WorkflowLinks(create_activity_workflow_id='560d75cc-7dbf-49b2-adad-4aa6dc1637db', version_activity_workflow_id=None), versioning_info=VersioningInfo(previous_version=None, version=1, reason=None, next_version=None)) roles=['metadata-read', 'metadata-write', 'admin', 'dataset-data-read', 'dataset-data-write'] locked=False\n",
      "Encountered exception while validating Dataset Template: id='10378.1/1905250'. Exception: Exception: Bad Request. Details: {\n",
      "  \"detail\": \"The registry API responded with status success False during dataset fetching. Details: The record was found but could not parsed as an appropriate type: Error The record was marked as a COMPLETE_ITEM but could not be parsed as the correct model. Error: 7 validation errors for ItemDataset\\ncollection_format\\n  field required (type=value_error.missing)\\ns3\\n  field required (type=value_error.missing)\\nrelease_status\\n  field required (type=value_error.missing)\\nhistory -> 0 -> item -> collection_format\\n  field required (type=value_error.missing)\\nhistory -> 0 -> item -> s3\\n  field required (type=value_error.missing)\\nhistory -> 0 -> item -> release_status\\n  field required (type=value_error.missing)\\nitem_subtype\\n  Incorrect item_subtype provided. The required type is ItemSubType.DATASET. (type=assertion_error)...\"\n",
      "}.\n",
      "Status code error: 400\n",
      "Server Details: Failed to fetch dataset with id 10378.1/1905250....\n",
      "Failed inputs validation.\n",
      "FAILED VALIDATION\n"
     ]
    },
    {
     "ename": "Exception",
     "evalue": "Workflow config validation exception occurred. See output above.",
     "output_type": "error",
     "traceback": [
      "\u001b[0;31m---------------------------------------------------------------------------\u001b[0m",
      "\u001b[0;31mException\u001b[0m                                 Traceback (most recent call last)",
      "Cell \u001b[0;32mIn[4], line 9\u001b[0m\n\u001b[1;32m      7\u001b[0m \u001b[38;5;28;01mif\u001b[39;00m \u001b[38;5;129;01mnot\u001b[39;00m valid:\n\u001b[1;32m      8\u001b[0m     \u001b[38;5;28mprint\u001b[39m(\u001b[38;5;124m\"\u001b[39m\u001b[38;5;124mFAILED VALIDATION\u001b[39m\u001b[38;5;124m\"\u001b[39m)\n\u001b[0;32m----> 9\u001b[0m     \u001b[38;5;28;01mraise\u001b[39;00m \u001b[38;5;167;01mException\u001b[39;00m(\u001b[38;5;124m\"\u001b[39m\u001b[38;5;124mWorkflow config validation exception occurred. See output above.\u001b[39m\u001b[38;5;124m\"\u001b[39m)\n",
      "\u001b[0;31mException\u001b[0m: Workflow config validation exception occurred. See output above."
     ]
    }
   ],
   "source": [
    "# let's validate the workflow config - this fetches ALL items referenced in the\n",
    "# workflow json to ensure the items are valid \n",
    "\n",
    "\n",
    "valid = await config.validate_entities(client.registry, client.datastore)\n",
    "\n",
    "if not valid:\n",
    "    print(\"FAILED VALIDATION\")\n",
    "    raise Exception(\"Workflow config validation exception occurred. See output above.\")\n"
   ]
  },
  {
   "attachments": {},
   "cell_type": "markdown",
   "metadata": {},
   "source": [
    "## Model run integration\n",
    "Now that the validation of the workflow configuration (incl. registered entities) is complete - we can move into the example of running the model against this configuration."
   ]
  },
  {
   "cell_type": "code",
   "execution_count": 29,
   "metadata": {},
   "outputs": [
    {
     "name": "stdout",
     "output_type": "stream",
     "text": [
      "Fetching from registry, id: 10378.1/1745829...\n",
      "{\n",
      "  \"display_name\": \"Hourly temperature\",\n",
      "  \"collection_format\": {\n",
      "    \"associations\": {\n",
      "      \"organisation_id\": \"10378.1/1741732\"\n",
      "    },\n",
      "    \"dataset_info\": {\n",
      "      \"name\": \"Hourly temperature\",\n",
      "      \"description\": \"Hourly temperature\",\n",
      "      \"access_info\": {\n",
      "        \"reposited\": true,\n",
      "        \"uri\": null,\n",
      "        \"description\": null\n",
      "      },\n",
      "      \"publisher_id\": \"10378.1/1741732\",\n",
      "      \"created_date\": \"2023-08-01\",\n",
      "      \"published_date\": \"2023-08-01\",\n",
      "      \"license\": \"https://creativecommons.org/publicdomain/zero/1.0/\",\n",
      "      \"preferred_citation\": null,\n",
      "      \"keywords\": null,\n",
      "      \"version\": null\n",
      "    },\n",
      "    \"approvals\": {\n",
      "      \"ethics_registration\": {\n",
      "        \"relevant\": false,\n",
      "        \"obtained\": false\n",
      "      },\n",
      "      \"ethics_access\": {\n",
      "        \"relevant\": false,\n",
      "        \"obtained\": false\n",
      "      },\n",
      "      \"indigenous_knowledge\": {\n",
      "        \"relevant\": false,\n",
      "        \"obtained\": false\n",
      "      },\n",
      "      \"export_controls\": {\n",
      "        \"relevant\": false,\n",
      "        \"obtained\": false\n",
      "      }\n",
      "    }\n",
      "  },\n",
      "  \"s3\": {\n",
      "    \"bucket_name\": \"restored-dev-dev-rrap-storage-bucket-11102022-11102022\",\n",
      "    \"path\": \"datasets/10378-1-1745829/\",\n",
      "    \"s3_uri\": \"s3://restored-dev-dev-rrap-storage-bucket-11102022-11102022/datasets/10378-1-1745829/\"\n",
      "  },\n",
      "  \"release_history\": [],\n",
      "  \"release_status\": \"NOT_RELEASED\",\n",
      "  \"release_approver\": null,\n",
      "  \"release_timestamp\": null,\n",
      "  \"history\": [\n",
      "    {\n",
      "      \"id\": 0,\n",
      "      \"timestamp\": 1693452130,\n",
      "      \"reason\": \"Initial record creation\",\n",
      "      \"username\": \"jonathan\",\n",
      "      \"item\": {\n",
      "        \"display_name\": \"Hourly temperature\",\n",
      "        \"collection_format\": {\n",
      "          \"associations\": {\n",
      "            \"organisation_id\": \"10378.1/1741732\"\n",
      "          },\n",
      "          \"dataset_info\": {\n",
      "            \"name\": \"Hourly temperature\",\n",
      "            \"description\": \"Hourly temperature\",\n",
      "            \"access_info\": {\n",
      "              \"reposited\": true,\n",
      "              \"uri\": null,\n",
      "              \"description\": null\n",
      "            },\n",
      "            \"publisher_id\": \"10378.1/1741732\",\n",
      "            \"created_date\": \"2023-08-01\",\n",
      "            \"published_date\": \"2023-08-01\",\n",
      "            \"license\": \"https://creativecommons.org/publicdomain/zero/1.0/\",\n",
      "            \"preferred_citation\": null,\n",
      "            \"keywords\": null,\n",
      "            \"version\": null\n",
      "          },\n",
      "          \"approvals\": {\n",
      "            \"ethics_registration\": {\n",
      "              \"relevant\": false,\n",
      "              \"obtained\": false\n",
      "            },\n",
      "            \"ethics_access\": {\n",
      "              \"relevant\": false,\n",
      "              \"obtained\": false\n",
      "            },\n",
      "            \"indigenous_knowledge\": {\n",
      "              \"relevant\": false,\n",
      "              \"obtained\": false\n",
      "            },\n",
      "            \"export_controls\": {\n",
      "              \"relevant\": false,\n",
      "              \"obtained\": false\n",
      "            }\n",
      "          }\n",
      "        },\n",
      "        \"s3\": {\n",
      "          \"bucket_name\": \"restored-dev-dev-rrap-storage-bucket-11102022-11102022\",\n",
      "          \"path\": \"datasets/10378-1-1745829/\",\n",
      "          \"s3_uri\": \"s3://restored-dev-dev-rrap-storage-bucket-11102022-11102022/datasets/10378-1-1745829/\"\n",
      "        },\n",
      "        \"release_history\": [],\n",
      "        \"release_status\": \"NOT_RELEASED\",\n",
      "        \"release_approver\": null,\n",
      "        \"release_timestamp\": null\n",
      "      }\n",
      "    }\n",
      "  ],\n",
      "  \"id\": \"10378.1/1745829\",\n",
      "  \"owner_username\": \"jonathan\",\n",
      "  \"created_timestamp\": 1693452129,\n",
      "  \"updated_timestamp\": 1693452130,\n",
      "  \"item_category\": \"ENTITY\",\n",
      "  \"item_subtype\": \"DATASET\",\n",
      "  \"record_type\": \"COMPLETE_ITEM\",\n",
      "  \"workflow_links\": {\n",
      "    \"create_activity_workflow_id\": \"4ff4a33a-f731-437d-8082-3f3501cfa511\",\n",
      "    \"version_activity_workflow_id\": null\n",
      "  },\n",
      "  \"versioning_info\": {\n",
      "    \"previous_version\": null,\n",
      "    \"version\": 1,\n",
      "    \"reason\": null,\n",
      "    \"next_version\": null\n",
      "  }\n",
      "}\n"
     ]
    }
   ],
   "source": [
    "# let's establish the paths of the input from the dataset\n",
    "def pprint_json(content) -> None:\n",
    "    print(json.dumps(content,indent=2))\n",
    "\n",
    "# fetch the dataset \n",
    "ds_id = config.inputs.hourly_temperature\n",
    "fetched_ds = registry.fetch_dataset(registry_endpoint=registry_endpoint, id=ds_id, auth=get_auth())\n",
    "pprint_json(fetched_ds)"
   ]
  },
  {
   "cell_type": "code",
   "execution_count": 30,
   "metadata": {},
   "outputs": [
    {
     "name": "stdout",
     "output_type": "stream",
     "text": [
      "None\n"
     ]
    }
   ],
   "source": [
    "# determine the external reposit path\n",
    "file_path = fetched_ds[\"collection_format\"][\"dataset_info\"][\"access_info\"][\"uri\"]\n",
    "print(file_path)"
   ]
  },
  {
   "attachments": {},
   "cell_type": "markdown",
   "metadata": {},
   "source": [
    "As demonstrated above, it is possible to retrieve the associated file path from the registered Dataset (assuming this info was included at registration time). Or the existing file path mechanism could continue being used.\n",
    "\n",
    "A similar approach works for the other inputs. Shown below."
   ]
  },
  {
   "cell_type": "code",
   "execution_count": 31,
   "metadata": {},
   "outputs": [
    {
     "name": "stdout",
     "output_type": "stream",
     "text": [
      "Fetching from registry, id: 10378.1/1745829...\n",
      "{\n",
      "  \"Temperature: \": null\n",
      "}\n"
     ]
    }
   ],
   "source": [
    "def fetch_and_path(id: str):\n",
    "    dataset = registry.fetch_dataset(registry_endpoint=registry_endpoint, id=id, auth=get_auth())\n",
    "    path = dataset[\"collection_format\"][\"dataset_info\"][\"access_info\"][\"uri\"]\n",
    "    return dataset, path\n",
    "\n",
    "# temperature\n",
    "temperature_ds, temperature_path = fetch_and_path(id=config.inputs.hourly_temperature)\n",
    "\n",
    "pprint_json({\n",
    "   \"Temperature: \" : temperature_path\n",
    "})"
   ]
  },
  {
   "attachments": {},
   "cell_type": "markdown",
   "metadata": {},
   "source": [
    "Alternatively, if we wanted to use the data storage utilities of the Provena data store, we could register a reposited dataset, and use the dynamic credential generation to produce r or r/w credentials into that specific dataset."
   ]
  },
  {
   "attachments": {},
   "cell_type": "markdown",
   "metadata": {},
   "source": [
    "### Running our fake model"
   ]
  },
  {
   "attachments": {},
   "cell_type": "markdown",
   "metadata": {},
   "source": [
    "We are going to pretend to produce some output from this process."
   ]
  },
  {
   "cell_type": "code",
   "execution_count": 32,
   "metadata": {},
   "outputs": [
    {
     "name": "stdout",
     "output_type": "stream",
     "text": [
      "Ran fake hourly JYI calculation, took 5 seconds.\n"
     ]
    }
   ],
   "source": [
    "def fake_data_fetch(path: str) -> int:\n",
    "    # This method would take the path and return the data\n",
    "    return 0\n",
    "\n",
    "fake_temperature = fake_data_fetch(temperature_path)\n",
    "\n",
    "\n",
    "def fake_model(temperature: int) -> int:\n",
    "    # this model does some heavy lifting and takes 5 seconds to finish \n",
    "    time.sleep(5) \n",
    "    \n",
    "    return 0\n",
    "\n",
    "# let's run our model with the inputs \n",
    "\n",
    "# start timer\n",
    "start_time = int(time.time())\n",
    "\n",
    "# run the model \n",
    "fake_model_output = fake_model(\n",
    "    temperature=fake_temperature    \n",
    ")\n",
    "\n",
    "end_time = int(time.time())\n",
    "\n",
    "print(f\"Ran fake hourly JYI calculation, took {end_time - start_time} seconds.\")\n",
    "\n"
   ]
  },
  {
   "attachments": {},
   "cell_type": "markdown",
   "metadata": {},
   "source": [
    "Now we have ran the toy model, let's register a provenance record which records the model run, the inputs used, and the outputs produced.\n",
    "\n",
    "We need to think more about the output. \n",
    "\n",
    "There are two primary ways that Provena supports registering the results of a model run. \n",
    "\n",
    "1. Dynamically register a new Dataset and link to this dataset. This is the _preferred_ method as it creates a clear causal chain between the model and the output dataset.\n",
    "2. Use a deferred or defined resource in an output dataset template to register the outputs into an existing dataset. E.g. overwrite an existing file or contribute new files to an existing dataset. This method produces less structurally clear provenance chains and may obfuscate the history of data (if overwriting).\n",
    "\n",
    "We will show both methods. \n",
    "\n",
    "Model runs satisfy the following JSON schema\n",
    "\n",
    "```json\n",
    "{\n",
    "  \"workflow_template_id\": \"string\",\n",
    "  \"inputs\": [\n",
    "    {\n",
    "      \"dataset_template_id\": \"string\",\n",
    "      \"dataset_id\": \"string\",\n",
    "      \"dataset_type\": \"DATA_STORE\",\n",
    "      \"resources\": {\n",
    "        \"additionalProp1\": \"string\",\n",
    "        \"additionalProp2\": \"string\",\n",
    "        \"additionalProp3\": \"string\"\n",
    "      }\n",
    "    }\n",
    "  ],\n",
    "  \"outputs\": [\n",
    "    {\n",
    "      \"dataset_template_id\": \"string\",\n",
    "      \"dataset_id\": \"string\",\n",
    "      \"dataset_type\": \"DATA_STORE\",\n",
    "      \"resources\": {\n",
    "        \"additionalProp1\": \"string\",\n",
    "        \"additionalProp2\": \"string\",\n",
    "        \"additionalProp3\": \"string\"\n",
    "      }\n",
    "    }\n",
    "  ],\n",
    "  \"annotations\": {\n",
    "    \"additionalProp1\": \"string\",\n",
    "    \"additionalProp2\": \"string\",\n",
    "    \"additionalProp3\": \"string\"\n",
    "  },\n",
    "  \"description\": \"string\",\n",
    "  \"associations\": {\n",
    "    \"modeller_id\": \"string\",\n",
    "    \"requesting_organisation_id\": \"string\"\n",
    "  },\n",
    "  \"start_time\": 0,\n",
    "  \"end_time\": 0\n",
    "}\n",
    "```"
   ]
  },
  {
   "attachments": {},
   "cell_type": "markdown",
   "metadata": {},
   "source": [
    "#### Overwrite an existing output at a specified path\n",
    "\n",
    "Let's start with method 2) and overwrite a specified output. This dataset is pre-registered and is included in our config."
   ]
  },
  {
   "cell_type": "code",
   "execution_count": 37,
   "metadata": {},
   "outputs": [
    {
     "name": "stdout",
     "output_type": "stream",
     "text": [
      "Fetching from registry, id: 10378.1/1745831...\n"
     ]
    },
    {
     "name": "stdout",
     "output_type": "stream",
     "text": [
      "{\n",
      "  \"display_name\": \"Example JYI output dataset\",\n",
      "  \"collection_format\": {\n",
      "    \"associations\": {\n",
      "      \"organisation_id\": \"10378.1/1741732\"\n",
      "    },\n",
      "    \"dataset_info\": {\n",
      "      \"name\": \"Example JYI output dataset\",\n",
      "      \"description\": \"Example JYI output dataset\",\n",
      "      \"access_info\": {\n",
      "        \"reposited\": true,\n",
      "        \"uri\": null,\n",
      "        \"description\": null\n",
      "      },\n",
      "      \"publisher_id\": \"10378.1/1741732\",\n",
      "      \"created_date\": \"2023-08-31\",\n",
      "      \"published_date\": \"2023-08-31\",\n",
      "      \"license\": \"https://gbrrestoration.github.io/rrap-mds-knowledge-hub/information-system/licenses.html#copyright-all-rights-reserved-\",\n",
      "      \"preferred_citation\": null,\n",
      "      \"keywords\": null,\n",
      "      \"version\": null\n",
      "    },\n",
      "    \"approvals\": {\n",
      "      \"ethics_registration\": {\n",
      "        \"relevant\": false,\n",
      "        \"obtained\": false\n",
      "      },\n",
      "      \"ethics_access\": {\n",
      "        \"relevant\": false,\n",
      "        \"obtained\": false\n",
      "      },\n",
      "      \"indigenous_knowledge\": {\n",
      "        \"relevant\": false,\n",
      "        \"obtained\": false\n",
      "      },\n",
      "      \"export_controls\": {\n",
      "        \"relevant\": false,\n",
      "        \"obtained\": false\n",
      "      }\n",
      "    }\n",
      "  },\n",
      "  \"s3\": {\n",
      "    \"bucket_name\": \"restored-dev-dev-rrap-storage-bucket-11102022-11102022\",\n",
      "    \"path\": \"datasets/10378-1-1745831/\",\n",
      "    \"s3_uri\": \"s3://restored-dev-dev-rrap-storage-bucket-11102022-11102022/datasets/10378-1-1745831/\"\n",
      "  },\n",
      "  \"release_history\": [],\n",
      "  \"release_status\": \"NOT_RELEASED\",\n",
      "  \"release_approver\": null,\n",
      "  \"release_timestamp\": null,\n",
      "  \"history\": [\n",
      "    {\n",
      "      \"id\": 0,\n",
      "      \"timestamp\": 1693452174,\n",
      "      \"reason\": \"Initial record creation\",\n",
      "      \"username\": \"jonathan\",\n",
      "      \"item\": {\n",
      "        \"display_name\": \"Example JYI output dataset\",\n",
      "        \"collection_format\": {\n",
      "          \"associations\": {\n",
      "            \"organisation_id\": \"10378.1/1741732\"\n",
      "          },\n",
      "          \"dataset_info\": {\n",
      "            \"name\": \"Example JYI output dataset\",\n",
      "            \"description\": \"Example JYI output dataset\",\n",
      "            \"access_info\": {\n",
      "              \"reposited\": true,\n",
      "              \"uri\": null,\n",
      "              \"description\": null\n",
      "            },\n",
      "            \"publisher_id\": \"10378.1/1741732\",\n",
      "            \"created_date\": \"2023-08-31\",\n",
      "            \"published_date\": \"2023-08-31\",\n",
      "            \"license\": \"https://gbrrestoration.github.io/rrap-mds-knowledge-hub/information-system/licenses.html#copyright-all-rights-reserved-\",\n",
      "            \"preferred_citation\": null,\n",
      "            \"keywords\": null,\n",
      "            \"version\": null\n",
      "          },\n",
      "          \"approvals\": {\n",
      "            \"ethics_registration\": {\n",
      "              \"relevant\": false,\n",
      "              \"obtained\": false\n",
      "            },\n",
      "            \"ethics_access\": {\n",
      "              \"relevant\": false,\n",
      "              \"obtained\": false\n",
      "            },\n",
      "            \"indigenous_knowledge\": {\n",
      "              \"relevant\": false,\n",
      "              \"obtained\": false\n",
      "            },\n",
      "            \"export_controls\": {\n",
      "              \"relevant\": false,\n",
      "              \"obtained\": false\n",
      "            }\n",
      "          }\n",
      "        },\n",
      "        \"s3\": {\n",
      "          \"bucket_name\": \"restored-dev-dev-rrap-storage-bucket-11102022-11102022\",\n",
      "          \"path\": \"datasets/10378-1-1745831/\",\n",
      "          \"s3_uri\": \"s3://restored-dev-dev-rrap-storage-bucket-11102022-11102022/datasets/10378-1-1745831/\"\n",
      "        },\n",
      "        \"release_history\": [],\n",
      "        \"release_status\": \"NOT_RELEASED\",\n",
      "        \"release_approver\": null,\n",
      "        \"release_timestamp\": null\n",
      "      }\n",
      "    }\n",
      "  ],\n",
      "  \"id\": \"10378.1/1745831\",\n",
      "  \"owner_username\": \"jonathan\",\n",
      "  \"created_timestamp\": 1693452173,\n",
      "  \"updated_timestamp\": 1693452174,\n",
      "  \"item_category\": \"ENTITY\",\n",
      "  \"item_subtype\": \"DATASET\",\n",
      "  \"record_type\": \"COMPLETE_ITEM\",\n",
      "  \"workflow_links\": {\n",
      "    \"create_activity_workflow_id\": \"a4334a21-8bad-4d44-bcdf-dbe790be6632\",\n",
      "    \"version_activity_workflow_id\": null\n",
      "  },\n",
      "  \"versioning_info\": {\n",
      "    \"previous_version\": null,\n",
      "    \"version\": 1,\n",
      "    \"reason\": null,\n",
      "    \"next_version\": null\n",
      "  }\n",
      "}\n"
     ]
    }
   ],
   "source": [
    "### Overwrite existing output\n",
    "\n",
    "output_dataset_id = config.outputs.hourly_jyi\n",
    "\n",
    "# we can resolve the path using the same approach as above, or using existing\n",
    "# NBIC path structure\n",
    "\n",
    "output_ds, output_path =fetch_and_path(id=output_dataset_id)\n",
    "\n",
    "pprint_json(output_ds)"
   ]
  },
  {
   "cell_type": "code",
   "execution_count": 48,
   "metadata": {},
   "outputs": [],
   "source": [
    "# building the model run payload \n",
    "model_run_payload = {\n",
    "  # This specifies the workflow template we are using \n",
    "  \"workflow_template_id\": config.workflow_configuration.workflow_template,\n",
    "  \n",
    "  # here we specify a dataset to match each template, and optionally any\n",
    "  # deferred resources\n",
    "  \"inputs\": [\n",
    "    # temperature\n",
    "    {\n",
    "      \"dataset_template_id\": config.inputs.hourly_temperature_template,\n",
    "      \"dataset_id\": config.inputs.hourly_temperature,\n",
    "      \"dataset_type\": \"DATA_STORE\"      \n",
    "    }\n",
    "  ],\n",
    "  \"outputs\": [\n",
    "    # Hourly JYI output\n",
    "    {\n",
    "      \"dataset_template_id\": config.outputs.hourly_jyi_template,\n",
    "      \"dataset_id\": config.outputs.hourly_jyi,\n",
    "      \"dataset_type\": \"DATA_STORE\"      \n",
    "    },\n",
    "  ],\n",
    "  \"description\": \"HourlyJYI Workflow. JY example. This is an example of using the JYI workflow to register into an existing dataset.\",\n",
    "  \"display_name\" : \"Hourly JYI Workflow run\",\n",
    "  \"associations\": {\n",
    "    \"modeller_id\": config.associations.person,\n",
    "    \"requesting_organisation_id\": config.associations.organisation\n",
    "  },\n",
    "  \"start_time\": start_time, \n",
    "  \"end_time\": end_time\n",
    "}"
   ]
  },
  {
   "cell_type": "code",
   "execution_count": 58,
   "metadata": {},
   "outputs": [
    {
     "name": "stdout",
     "output_type": "stream",
     "text": [
      "https://prov-api.dev.rrap-is.com/model_run/register\n",
      "{\n",
      "  \"workflow_template_id\": \"10378.1/1745827\",\n",
      "  \"inputs\": [\n",
      "    {\n",
      "      \"dataset_template_id\": \"10378.1/1745821\",\n",
      "      \"dataset_id\": \"10378.1/1745829\",\n",
      "      \"dataset_type\": \"DATA_STORE\"\n",
      "    }\n",
      "  ],\n",
      "  \"outputs\": [\n",
      "    {\n",
      "      \"dataset_template_id\": \"10378.1/1745822\",\n",
      "      \"dataset_id\": \"10378.1/1745831\",\n",
      "      \"dataset_type\": \"DATA_STORE\"\n",
      "    }\n",
      "  ],\n",
      "  \"description\": \"HourlyJYI Workflow. JY example. This is an example of using the JYI workflow to register into an existing dataset.\",\n",
      "  \"display_name\": \"Hourly JYI Workflow run\",\n",
      "  \"associations\": {\n",
      "    \"modeller_id\": \"10378.1/1741731\",\n",
      "    \"requesting_organisation_id\": \"10378.1/1741732\"\n",
      "  },\n",
      "  \"start_time\": 1693452651,\n",
      "  \"end_time\": 1693452656\n",
      "}\n",
      "Registering model run\n",
      "Token validation failed due to error: Signature has expired.\n",
      "Refreshing using refresh token\n",
      "\n"
     ]
    }
   ],
   "source": [
    "# Registering the model run \n",
    "endpoint = provenance_endpoint + \"/model_run/register\"\n",
    "print(endpoint)\n",
    "payload = model_run_payload\n",
    "pprint_json(payload)\n",
    "\n",
    "# send off request\n",
    "print(\"Registering model run\")\n",
    "response = requests.post(url=endpoint, json=payload, auth=get_auth())\n",
    "\n"
   ]
  },
  {
   "cell_type": "code",
   "execution_count": 59,
   "metadata": {},
   "outputs": [
    {
     "name": "stdout",
     "output_type": "stream",
     "text": [
      "{\n",
      "  \"status\": {\n",
      "    \"success\": true,\n",
      "    \"details\": \"Job dispatched, monitor session ID using the job API to see progress.\"\n",
      "  },\n",
      "  \"session_id\": \"44bbd02a-0e3f-4b1c-835d-bbbb0fef1c41\"\n",
      "}\n"
     ]
    }
   ],
   "source": [
    "# use helper function to check response\n",
    "registry.check_response(response=response, status_check=True)\n",
    "response_content = response.json()\n",
    "pprint_json(response_content)\n",
    "\n"
   ]
  },
  {
   "cell_type": "code",
   "execution_count": 72,
   "metadata": {},
   "outputs": [
    {
     "name": "stdout",
     "output_type": "stream",
     "text": [
      "https://job-api.dev.rrap-is.com/jobs/user/fetch\n",
      "{\n",
      "  \"session_id\": \"44bbd02a-0e3f-4b1c-835d-bbbb0fef1c41\"\n",
      "}\n",
      "Checking job 44bbd02a-0e3f-4b1c-835d-bbbb0fef1c41 \n"
     ]
    },
    {
     "ename": "KeyError",
     "evalue": "'id'",
     "output_type": "error",
     "traceback": [
      "\u001b[0;31m---------------------------------------------------------------------------\u001b[0m",
      "\u001b[0;31mKeyError\u001b[0m                                  Traceback (most recent call last)",
      "Cell \u001b[0;32mIn[72], line 20\u001b[0m\n\u001b[1;32m     15\u001b[0m j_response_content \u001b[39m=\u001b[39m j_response\u001b[39m.\u001b[39mjson()\n\u001b[1;32m     16\u001b[0m \u001b[39m#pprint_json(j_response_content)\u001b[39;00m\n\u001b[1;32m     17\u001b[0m \u001b[39m#print(json.dumps(j_response_content, indent=4))\u001b[39;00m\n\u001b[1;32m     18\u001b[0m \u001b[39m#print(j_response_content)\u001b[39;00m\n\u001b[0;32m---> 20\u001b[0m result_id \u001b[39m=\u001b[39m j_response_content[\u001b[39m\"\u001b[39;49m\u001b[39mjob\u001b[39;49m\u001b[39m\"\u001b[39;49m][\u001b[39m\"\u001b[39;49m\u001b[39mresult\u001b[39;49m\u001b[39m\"\u001b[39;49m][\u001b[39m\"\u001b[39;49m\u001b[39mid\u001b[39;49m\u001b[39m\"\u001b[39;49m]\n",
      "\u001b[0;31mKeyError\u001b[0m: 'id'"
     ]
    }
   ],
   "source": [
    "\n",
    "# Check the job to see if it's complete\n",
    "\n",
    "endpoint = job_endpoint + \"/jobs/user/fetch\"\n",
    "payload = {\n",
    "    \"session_id\" : response_content[\"session_id\"]\n",
    "}\n",
    "print(endpoint)\n",
    "pprint_json(payload)\n",
    "\n",
    "# send off request\n",
    "print(\"Checking job {} \".format(response_content[\"session_id\"]))\n",
    "j_response = requests.get(url=endpoint, params=payload, auth=get_auth())\n",
    "# use helper function to check response\n",
    "#registry.check_response(response=j_response, status_check=True)\n",
    "j_response_content = j_response.json()\n",
    "#pprint_json(j_response_content)\n",
    "#print(json.dumps(j_response_content, indent=4))\n",
    "#print(j_response_content)\n",
    "\n",
    "result_id = j_response_content[\"job\"][\"result\"]"
   ]
  },
  {
   "cell_type": "code",
   "execution_count": 52,
   "metadata": {},
   "outputs": [
    {
     "name": "stdout",
     "output_type": "stream",
     "text": [
      "{\n",
      "  \"status\": {\n",
      "    \"success\": true,\n",
      "    \"details\": \"Job dispatched, monitor session ID using the job API to see progress.\"\n",
      "  },\n",
      "  \"session_id\": \"0733df02-96fd-475e-b263-539377365757\"\n",
      "}\n"
     ]
    }
   ],
   "source": [
    "\n",
    "# use helper function to check response\n",
    "registry.check_response(response=response, status_check=True)\n",
    "\n",
    "response_content = response.json()\n",
    "pprint_json(response_content)\n"
   ]
  },
  {
   "cell_type": "code",
   "execution_count": null,
   "metadata": {},
   "outputs": [],
   "source": [
    "\n",
    "method_two_record_info = response_content[\"record_info\"]\n",
    "pprint_json(method_two_record_info)"
   ]
  },
  {
   "attachments": {},
   "cell_type": "markdown",
   "metadata": {},
   "source": [
    "Quick and dirty visualisation"
   ]
  },
  {
   "cell_type": "code",
   "execution_count": null,
   "metadata": {},
   "outputs": [
    {
     "data": {
      "image/png": "[encoded data removed]",
      "text/plain": [
       "<IPython.core.display.Image object>"
      ]
     },
     "execution_count": 20,
     "metadata": {},
     "output_type": "execute_result"
    }
   ],
   "source": [
    "import prov.model as pm\n",
    "from prov.dot import prov_to_dot\n",
    "from IPython.display import Image\n",
    "\n",
    "# pull out json serialisation from prov api\n",
    "prov_serialisation = method_two_record_info[\"prov_json\"]\n",
    "\n",
    "# parse into prov document\n",
    "document = pm.ProvDocument.deserialize(source=None, content=prov_serialisation)\n",
    "\n",
    "# render into file\n",
    "dot = prov_to_dot(document)\n",
    "name = \"resources/prov_graph\"\n",
    "\n",
    "dot.write_png(name + '.png')\n",
    "Image(name + '.png')"
   ]
  },
  {
   "attachments": {},
   "cell_type": "markdown",
   "metadata": {},
   "source": [
    "#### Registering a dataset during model run registration\n",
    "\n",
    "Now let's perform method 1) i.e. register a dataset during automated model run provenance registration.\n",
    "\n",
    "Datasets require the following fields.\n",
    "\n",
    "\n",
    "```json\n",
    "{\n",
    "  \"associations\": {\n",
    "    \"organisation_id\": \"string\"\n",
    "  },\n",
    "  \"dataset_info\": {\n",
    "    \"name\": \"string\",\n",
    "    \"description\": \"string\",\n",
    "    \"access_info\": {\n",
    "      \"reposited\": true,\n",
    "      \"uri\": \"string\",\n",
    "      \"description\": \"string\"\n",
    "    },\n",
    "    \"publisher_id\": \"string\",\n",
    "    \"created_date\": \"2023-06-06\",\n",
    "    \"published_date\": \"2023-06-06\",\n",
    "    \"license\": \"string\",\n",
    "    \"preferred_citation\": \"string\",\n",
    "    \"keywords\": [\n",
    "      \"string\"\n",
    "    ],\n",
    "    \"version\": \"string\"\n",
    "  },\n",
    "  \"approvals\": {\n",
    "    \"ethics_registration\": {\n",
    "      \"relevant\": false,\n",
    "      \"obtained\": false\n",
    "    },\n",
    "    \"ethics_access\": {\n",
    "      \"relevant\": false,\n",
    "      \"obtained\": false\n",
    "    },\n",
    "    \"indigenous_knowledge\": {\n",
    "      \"relevant\": false,\n",
    "      \"obtained\": false\n",
    "    },\n",
    "    \"export_controls\": {\n",
    "      \"relevant\": false,\n",
    "      \"obtained\": false\n",
    "    }\n",
    "  }\n",
    "}\n",
    "```"
   ]
  },
  {
   "cell_type": "code",
   "execution_count": 39,
   "metadata": {},
   "outputs": [
    {
     "name": "stdout",
     "output_type": "stream",
     "text": [
      "Registering output dataset\n"
     ]
    },
    {
     "name": "stdout",
     "output_type": "stream",
     "text": [
      "Minted new dataset successfully with handle 10378.1/1745844.\n"
     ]
    }
   ],
   "source": [
    "default_license = \"https://gbrrestoration.github.io/rrap-mds-knowledge-hub/information-system/licenses.html#copyright-all-rights-reserved\"\n",
    "output_path = \"s3://example-bucket/test-data.csv\"\n",
    "dataset_payload = {\n",
    "  \"associations\": {\n",
    "    \"organisation_id\": config.associations.organisation\n",
    "  },\n",
    "  \"dataset_info\": {\n",
    "    \"name\": \"Hourly JYI Example workflow output\",\n",
    "    \"description\": \"Hourly JYI Example workflow output. Generated in automated provenance workflow registration. Externally reposited file with jyi outputs.\",\n",
    "    \n",
    "    # The data is not reposited\n",
    "    \"access_info\": {\n",
    "      \"reposited\": False,\n",
    "      \"uri\": output_path,\n",
    "      \"description\": \"The  file is stored in the Example storage at the specified path\"\n",
    "    },\n",
    "    \"publisher_id\": config.associations.organisation,\n",
    "    \"created_date\": \"2023-06-06\",\n",
    "    \"published_date\": \"2023-06-06\",\n",
    "    \"license\": default_license,\n",
    "    \"keywords\": [\n",
    "        \"JYI\",\n",
    "        \"Example\"\n",
    "    ]\n",
    "  },\n",
    "  \"approvals\": {\n",
    "    \"ethics_registration\": {\n",
    "      \"relevant\": False,\n",
    "      \"obtained\": False\n",
    "    },\n",
    "    \"ethics_access\": {\n",
    "      \"relevant\": False,\n",
    "      \"obtained\": False\n",
    "    },\n",
    "    \"indigenous_knowledge\": {\n",
    "      \"relevant\": False,\n",
    "      \"obtained\": False\n",
    "    },\n",
    "    \"export_controls\": {\n",
    "      \"relevant\": False,\n",
    "      \"obtained\": False\n",
    "    }\n",
    "  }\n",
    "}\n",
    "\n",
    "# Registering the dataset\n",
    "endpoint = data_store_endpoint + \"/register/mint-dataset\"\n",
    "payload = dataset_payload\n",
    "\n",
    "# send off request\n",
    "print(\"Registering output dataset\")\n",
    "response = requests.post(url=endpoint, json=payload, auth=get_auth())\n",
    "\n",
    "# use helper function to check response\n",
    "registry.check_response(response=response, status_check=True)\n",
    "\n",
    "response_content = response.json()\n",
    "output_dataset_id = response_content[\"handle\"]\n",
    "\n",
    "print(f\"Minted new dataset successfully with handle {output_dataset_id}.\")"
   ]
  },
  {
   "attachments": {},
   "cell_type": "markdown",
   "metadata": {},
   "source": [
    "Now we have dynamically generated an output dataset. \n",
    "\n",
    "We could choose to actually upload the files to this dataset using the dynamic s3 credential generation. \n",
    "\n",
    "However, in the NBIC workflows we just want to refer to the existing storage location - so we use the externally reposited option as above to specify this path. \n",
    "\n",
    "Now we can use the same model run payload, replacing the output dataset with the dynamically generated output above."
   ]
  },
  {
   "cell_type": "code",
   "execution_count": 41,
   "metadata": {},
   "outputs": [
    {
     "name": "stdout",
     "output_type": "stream",
     "text": [
      "Registering model run\n",
      "Token validation failed due to error: Signature has expired.\n",
      "Refreshing using refresh token\n",
      "\n"
     ]
    },
    {
     "ename": "Exception",
     "evalue": "Non 200 status code in response: 404. Response: {\"detail\":\"Not Found\"}.",
     "output_type": "error",
     "traceback": [
      "\u001b[0;31m---------------------------------------------------------------------------\u001b[0m",
      "\u001b[0;31mException\u001b[0m                                 Traceback (most recent call last)",
      "Cell \u001b[0;32mIn[41], line 14\u001b[0m\n\u001b[1;32m     11\u001b[0m response \u001b[39m=\u001b[39m requests\u001b[39m.\u001b[39mpost(url\u001b[39m=\u001b[39mendpoint, json\u001b[39m=\u001b[39mpayload, auth\u001b[39m=\u001b[39mget_auth())\n\u001b[1;32m     13\u001b[0m \u001b[39m# use helper function to check response\u001b[39;00m\n\u001b[0;32m---> 14\u001b[0m registry\u001b[39m.\u001b[39;49mcheck_response(response\u001b[39m=\u001b[39;49mresponse, status_check\u001b[39m=\u001b[39;49m\u001b[39mTrue\u001b[39;49;00m)\n",
      "File \u001b[0;32m/srv/repo/github/provena/provena-example-notebooks/python/registry.py:9\u001b[0m, in \u001b[0;36mcheck_response\u001b[0;34m(response, status_check)\u001b[0m\n\u001b[1;32m      7\u001b[0m status_code \u001b[39m=\u001b[39m response\u001b[39m.\u001b[39mstatus_code\n\u001b[1;32m      8\u001b[0m \u001b[39mif\u001b[39;00m (status_code \u001b[39m!=\u001b[39m \u001b[39m200\u001b[39m):\n\u001b[0;32m----> 9\u001b[0m     \u001b[39mraise\u001b[39;00m \u001b[39mException\u001b[39;00m(\n\u001b[1;32m     10\u001b[0m         \u001b[39mf\u001b[39m\u001b[39m\"\u001b[39m\u001b[39mNon 200 status code in response: \u001b[39m\u001b[39m{\u001b[39;00mstatus_code\u001b[39m}\u001b[39;00m\u001b[39m. Response: \u001b[39m\u001b[39m{\u001b[39;00mresponse\u001b[39m.\u001b[39mtext\u001b[39m}\u001b[39;00m\u001b[39m.\u001b[39m\u001b[39m\"\u001b[39m)\n\u001b[1;32m     11\u001b[0m \u001b[39mif\u001b[39;00m status_check:\n\u001b[1;32m     12\u001b[0m     status_object \u001b[39m=\u001b[39m response\u001b[39m.\u001b[39mjson()[\u001b[39m\"\u001b[39m\u001b[39mstatus\u001b[39m\u001b[39m\"\u001b[39m]\n",
      "\u001b[0;31mException\u001b[0m: Non 200 status code in response: 404. Response: {\"detail\":\"Not Found\"}."
     ]
    }
   ],
   "source": [
    "# update the dataset ID \n",
    "model_run_payload[\"outputs\"][0][\"dataset_id\"] = output_dataset_id\n",
    "\n",
    "\n",
    "## Registering the model run \n",
    "endpoint = provenance_endpoint + \"/model_run/register_complete\"\n",
    "payload = model_run_payload\n",
    "\n",
    "# send off request\n",
    "print(\"Registering model run\")\n",
    "response = requests.post(url=endpoint, json=payload, auth=get_auth())\n",
    "\n",
    "# use helper function to check response\n",
    "registry.check_response(response=response, status_check=True)\n"
   ]
  },
  {
   "cell_type": "code",
   "execution_count": null,
   "metadata": {},
   "outputs": [],
   "source": [
    "response_content = response.json()\n",
    "method_one_record_info = response_content[\"record_info\"]\n",
    "\n",
    "# pull out json serialisation from prov api\n",
    "prov_serialisation = method_one_record_info[\"prov_json\"]\n",
    "\n",
    "# parse into prov document\n",
    "document = pm.ProvDocument.deserialize(source=None, content=prov_serialisation)\n",
    "\n",
    "# render into file\n",
    "dot = prov_to_dot(document)\n",
    "name = \"resources/prov_graph\"\n",
    "\n",
    "dot.write_png(name + '.png')\n",
    "Image(name + '.png')"
   ]
  },
  {
   "cell_type": "markdown",
   "metadata": {},
   "source": [
    "## Demonstrating download and upload\n",
    "\n",
    "If, unlike in the above demonstration, we wanted to upload and download files, it is easy to use the Provena APIs to automate this process. \n",
    "\n",
    "The high level steps are:\n",
    "\n",
    "1. Identify or register the dataset\n",
    "2. Use the API to generate credentials to r/w to the dataset\n",
    "3. Use these credentials in your S3 client of choice to r/w data\n",
    "\n",
    "We will demonstrate these steps below"
   ]
  },
  {
   "cell_type": "code",
   "execution_count": 27,
   "metadata": {},
   "outputs": [
    {
     "name": "stdout",
     "output_type": "stream",
     "text": [
      "Registering dataset\n",
      "Token validation failed due to error: Signature has expired.\n",
      "Refreshing using refresh token\n",
      "\n",
      "Minted new dataset successfully with handle 10378.1/1803642.\n"
     ]
    }
   ],
   "source": [
    "# First, let's register a dataset\n",
    "\n",
    "default_license = \"https://gbrrestoration.github.io/rrap-mds-knowledge-hub/information-system/licenses.html#copyright-all-rights-reserved\"\n",
    "dataset_payload = {\n",
    "  \"associations\": {\n",
    "    \"organisation_id\": config.associations.organisation\n",
    "  },\n",
    "  \"dataset_info\": {\n",
    "    \"name\": \"Demonstration upload download dataset\",\n",
    "    \"description\": \"This dataset is used to demonstrate automated upload and download of files.\",\n",
    "    \n",
    "    # The data is not reposited\n",
    "    \"access_info\": {\n",
    "      \"reposited\": True,\n",
    "    },\n",
    "    \"publisher_id\": config.associations.organisation,\n",
    "    \"created_date\": \"2023-06-06\",\n",
    "    \"published_date\": \"2023-06-06\",\n",
    "    \"license\": default_license,\n",
    "    \"keywords\": [\n",
    "        \"JYI\",\n",
    "        \"Example\"\n",
    "    ]\n",
    "  },\n",
    "  \"approvals\": {\n",
    "    \"ethics_registration\": {\n",
    "      \"relevant\": False,\n",
    "      \"obtained\": False\n",
    "    },\n",
    "    \"ethics_access\": {\n",
    "      \"relevant\": False,\n",
    "      \"obtained\": False\n",
    "    },\n",
    "    \"indigenous_knowledge\": {\n",
    "      \"relevant\": False,\n",
    "      \"obtained\": False\n",
    "    },\n",
    "    \"export_controls\": {\n",
    "      \"relevant\": False,\n",
    "      \"obtained\": False\n",
    "    }\n",
    "  }\n",
    "}\n",
    "\n",
    "# Registering the dataset\n",
    "endpoint = data_store_endpoint + \"/register/mint-dataset\"\n",
    "payload = dataset_payload\n",
    "\n",
    "# send off request\n",
    "print(\"Registering dataset\")\n",
    "response = requests.post(url=endpoint, json=payload, auth=get_auth())\n",
    "\n",
    "# use helper function to check response\n",
    "registry.check_response(response=response, status_check=True)\n",
    "\n",
    "response_content = response.json()\n",
    "\n",
    "print(f\"Minted new dataset successfully with handle {dataset_id}.\")"
   ]
  },
  {
   "cell_type": "code",
   "execution_count": 29,
   "metadata": {},
   "outputs": [
    {
     "name": "stdout",
     "output_type": "stream",
     "text": [
      "Name: restored-dev-dev-rrap-storage-bucket-11102022-11102022, Path: datasets/10378-1-1803642/\n"
     ]
    }
   ],
   "source": [
    "\n",
    "dataset_id = response_content[\"handle\"]\n",
    "bucket_name = response_content[\"s3_location\"][\"bucket_name\"]\n",
    "bucket_path = response_content[\"s3_location\"][\"path\"]\n",
    "\n",
    "print(f\"Name: {bucket_name}, Path: {bucket_path}\")"
   ]
  },
  {
   "cell_type": "code",
   "execution_count": 35,
   "metadata": {},
   "outputs": [
    {
     "name": "stdout",
     "output_type": "stream",
     "text": [
      "Generated write credentials successfully.\n",
      "{'aws_access_key_id': '********************', 'aws_secret_access_key': '****************************************', 'aws_session_token': '************************************************************************************************************************************************************************************************************************************************************************************************************************************************************************************************************************************************************************************************************************************************************************************************************************************************************************************************************************************************************************************************************************************************************************************************************************************************************************************************************************************************************************', 'expiry': '2023-12-20T12:27:49+00:00'}\n",
      "Expire on: 2023-12-20T12:27:49+00:00\n"
     ]
    }
   ],
   "source": [
    "# Now we can use the mds is client tools helper library to get some creds - noting read vs write - diff permissions required\n",
    "from typing import Dict\n",
    "\n",
    "write_creds : Dict[str, str] = ProvenaRW._write_dataset(\n",
    "    dataset_id=dataset_id,\n",
    "    auth=get_auth(),\n",
    "    endpoint=data_store_endpoint\n",
    ")\n",
    "\n",
    "sanitised = {k: \"*\" * len(v) if k != \"expiry\" else v for k,v in write_creds.items()}\n",
    "print(f\"Generated write credentials successfully.\\n{sanitised}\")\n",
    "print(f\"Expire on: {write_creds['expiry']}\")"
   ]
  },
  {
   "cell_type": "markdown",
   "metadata": {},
   "source": [
    "### Now we can use the built in download/upload methods, or we can spin up our own\n"
   ]
  },
  {
   "cell_type": "code",
   "execution_count": 24,
   "metadata": {},
   "outputs": [
    {
     "name": "stdout",
     "output_type": "stream",
     "text": [
      "Uploading files...\n",
      "Found dataset: Demonstration upload download dataset.\n",
      "\n",
      "Attempting to upload files to /tmp/tmp9jt_mong\n",
      "Upload complete.\n",
      "\n",
      "Downloading files...\n",
      "Found dataset: Demonstration upload download dataset.\n",
      "\n",
      "Attempting to download files to /tmp/tmp61k95v21\n",
      "Download complete.\n",
      "\n",
      "Resulting files...\n",
      "photo.jpg\n",
      "metadata.json\n",
      "document.txt\n",
      "data.csv\n"
     ]
    }
   ],
   "source": [
    "# Built in upload\n",
    "\n",
    "import os\n",
    "from tempfile import TemporaryDirectory\n",
    "\n",
    "# make some helper funcs\n",
    "def upload(path: str):\n",
    "    ProvenaRW.upload(data_store_api_endpoint=data_store_endpoint, handle=dataset_id, auth=get_auth(), source_dir=path)\n",
    "\n",
    "def download(dest: str):\n",
    "    ProvenaRW.download(data_store_api_endpoint=data_store_endpoint,handle=dataset_id, auth=get_auth(),download_path=dest)\n",
    "   \n",
    "  \n",
    "with TemporaryDirectory() as upload_dir: \n",
    "    # Assume we have these files in our local system initially\n",
    "    local_files = ['document.txt', 'photo.jpg', 'data.csv']\n",
    "\n",
    "    # Create the files locally to simulate existing files\n",
    "    for file_name in local_files:\n",
    "        with open(os.path.join(upload_dir, file_name), 'w') as file:\n",
    "            file.write(f\"This is the content of {file_name}.\")\n",
    "\n",
    "    # Upload all files in dir\n",
    "    print(\"Uploading files...\")\n",
    "    upload(upload_dir)\n",
    "    print()\n",
    "    \n",
    "    # Download and check into temp dir\n",
    "    with TemporaryDirectory() as download_dir: \n",
    "        print(\"Downloading files...\")\n",
    "        download(download_dir)\n",
    "        print()\n",
    "        \n",
    "        print(\"Resulting files...\")\n",
    "        files = os.listdir(download_dir)\n",
    "        for f in files:\n",
    "            print(f)\n"
   ]
  },
  {
   "cell_type": "code",
   "execution_count": 36,
   "metadata": {},
   "outputs": [
    {
     "name": "stdout",
     "output_type": "stream",
     "text": [
      "Uploading files using S3 SDK...\n",
      "\n",
      "Downloading files...\n"
     ]
    },
    {
     "name": "stdout",
     "output_type": "stream",
     "text": [
      "Found dataset: Demonstration upload download dataset.\n",
      "\n",
      "Attempting to download files to /tmp/tmpxcg7ft6w\n",
      "Download complete.\n",
      "\n",
      "Resulting files...\n",
      "metadata.json\n",
      "data2.csv\n",
      "photo2.jpg\n",
      "document2.txt\n"
     ]
    }
   ],
   "source": [
    "\n",
    "# Or we can use AWS S3 SDK directly, for example\n",
    "import boto3 \n",
    "\n",
    "# This will mess up constructor - remove for now\n",
    "filtered_creds = {k : v for k,v in write_creds.items() if k != \"expiry\"}\n",
    "\n",
    "# create a session\n",
    "s3 = boto3.client('s3', **filtered_creds)\n",
    "\n",
    "# now lets demonstrate uploading/downloading directly\n",
    "with TemporaryDirectory() as upload_dir: \n",
    "    # Assume we have these files in our local system initially\n",
    "    local_files = ['document2.txt', 'photo2.jpg', 'data2.csv']\n",
    "\n",
    "    # Create the files locally to simulate existing files\n",
    "    for file_name in local_files:\n",
    "        with open(os.path.join(upload_dir, file_name), 'w') as file:\n",
    "            file.write(f\"This is the content of {file_name}.\")\n",
    "\n",
    "    # Upload all files in dir\n",
    "    print(\"Uploading files using S3 SDK...\")\n",
    "    for f in local_files:\n",
    "        s3.upload_file(os.path.join(upload_dir, f),bucket_name,bucket_path +  f)\n",
    "        \n",
    "    print()\n",
    "    \n",
    "    # Download and check into temp dir\n",
    "    with TemporaryDirectory() as download_dir: \n",
    "        print(\"Downloading files...\")\n",
    "        download(download_dir)\n",
    "        print()\n",
    "        \n",
    "        print(\"Resulting files...\")\n",
    "        files = os.listdir(download_dir)\n",
    "        for f in files:\n",
    "            print(f)"
   ]
  }
 ],
 "metadata": {
  "kernelspec": {
   "display_name": ".venv",
   "language": "python",
   "name": "python3"
  },
  "language_info": {
   "codemirror_mode": {
    "name": "ipython",
    "version": 3
   },
   "file_extension": ".py",
   "mimetype": "text/x-python",
   "name": "python",
   "nbconvert_exporter": "python",
   "pygments_lexer": "ipython3",
   "version": "3.10.13"
  },
  "orig_nbformat": 4
 },
 "nbformat": 4,
 "nbformat_minor": 2
}
